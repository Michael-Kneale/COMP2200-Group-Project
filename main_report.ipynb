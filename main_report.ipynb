{
 "cells": [
  {
   "cell_type": "markdown",
   "id": "f684a58d",
   "metadata": {},
   "source": [
    "# COMP2200 Data science group project - Group 50"
   ]
  },
  {
   "cell_type": "markdown",
   "id": "bc3435fc",
   "metadata": {},
   "source": [
    "#### Malaria and the Factors Affecting its Spread"
   ]
  },
  {
   "cell_type": "code",
   "execution_count": 23,
   "id": "b6fe88d9",
   "metadata": {},
   "outputs": [],
   "source": [
    "import pandas as pd\n",
    "import numpy as np\n",
    "import matplotlib.pyplot as plt\n",
    "import seaborn as sns\n",
    "from sklearn.model_selection import train_test_split\n",
    "from sklearn.linear_model import LogisticRegression\n",
    "from sklearn import metrics\n",
    "%matplotlib inline"
   ]
  },
  {
   "cell_type": "code",
   "execution_count": 24,
   "id": "43dfe4f4",
   "metadata": {},
   "outputs": [
    {
     "data": {
      "text/html": [
       "<div>\n",
       "<style scoped>\n",
       "    .dataframe tbody tr th:only-of-type {\n",
       "        vertical-align: middle;\n",
       "    }\n",
       "\n",
       "    .dataframe tbody tr th {\n",
       "        vertical-align: top;\n",
       "    }\n",
       "\n",
       "    .dataframe thead th {\n",
       "        text-align: right;\n",
       "    }\n",
       "</style>\n",
       "<table border=\"1\" class=\"dataframe\">\n",
       "  <thead>\n",
       "    <tr style=\"text-align: right;\">\n",
       "      <th></th>\n",
       "      <th>Country</th>\n",
       "      <th>Year</th>\n",
       "      <th>No. of cases</th>\n",
       "      <th>No. of deaths</th>\n",
       "      <th>No. of cases_median</th>\n",
       "      <th>No. of cases_min</th>\n",
       "      <th>No. of cases_max</th>\n",
       "      <th>No. of deaths_median</th>\n",
       "      <th>No. of deaths_min</th>\n",
       "      <th>No. of deaths_max</th>\n",
       "      <th>WHO Region</th>\n",
       "    </tr>\n",
       "  </thead>\n",
       "  <tbody>\n",
       "    <tr>\n",
       "      <th>0</th>\n",
       "      <td>Afghanistan</td>\n",
       "      <td>2017</td>\n",
       "      <td>630308[495000-801000]</td>\n",
       "      <td>298[110-510]</td>\n",
       "      <td>630308</td>\n",
       "      <td>495000.0</td>\n",
       "      <td>801000.0</td>\n",
       "      <td>298</td>\n",
       "      <td>110.0</td>\n",
       "      <td>510.0</td>\n",
       "      <td>Eastern Mediterranean</td>\n",
       "    </tr>\n",
       "    <tr>\n",
       "      <th>1</th>\n",
       "      <td>Algeria</td>\n",
       "      <td>2017</td>\n",
       "      <td>0</td>\n",
       "      <td>0</td>\n",
       "      <td>0</td>\n",
       "      <td>NaN</td>\n",
       "      <td>NaN</td>\n",
       "      <td>0</td>\n",
       "      <td>NaN</td>\n",
       "      <td>NaN</td>\n",
       "      <td>Africa</td>\n",
       "    </tr>\n",
       "    <tr>\n",
       "      <th>2</th>\n",
       "      <td>Angola</td>\n",
       "      <td>2017</td>\n",
       "      <td>4615605[3106000-6661000]</td>\n",
       "      <td>13316[9970-16600]</td>\n",
       "      <td>4615605</td>\n",
       "      <td>3106000.0</td>\n",
       "      <td>6661000.0</td>\n",
       "      <td>13316</td>\n",
       "      <td>9970.0</td>\n",
       "      <td>16600.0</td>\n",
       "      <td>Africa</td>\n",
       "    </tr>\n",
       "    <tr>\n",
       "      <th>3</th>\n",
       "      <td>Argentina</td>\n",
       "      <td>2017</td>\n",
       "      <td>0</td>\n",
       "      <td>0</td>\n",
       "      <td>0</td>\n",
       "      <td>NaN</td>\n",
       "      <td>NaN</td>\n",
       "      <td>0</td>\n",
       "      <td>NaN</td>\n",
       "      <td>NaN</td>\n",
       "      <td>Americas</td>\n",
       "    </tr>\n",
       "    <tr>\n",
       "      <th>4</th>\n",
       "      <td>Armenia</td>\n",
       "      <td>2017</td>\n",
       "      <td>0</td>\n",
       "      <td>0</td>\n",
       "      <td>0</td>\n",
       "      <td>NaN</td>\n",
       "      <td>NaN</td>\n",
       "      <td>0</td>\n",
       "      <td>NaN</td>\n",
       "      <td>NaN</td>\n",
       "      <td>Europe</td>\n",
       "    </tr>\n",
       "  </tbody>\n",
       "</table>\n",
       "</div>"
      ],
      "text/plain": [
       "       Country  Year              No. of cases      No. of deaths  \\\n",
       "0  Afghanistan  2017     630308[495000-801000]       298[110-510]   \n",
       "1      Algeria  2017                         0                  0   \n",
       "2       Angola  2017  4615605[3106000-6661000]  13316[9970-16600]   \n",
       "3    Argentina  2017                         0                  0   \n",
       "4      Armenia  2017                         0                  0   \n",
       "\n",
       "   No. of cases_median  No. of cases_min  No. of cases_max  \\\n",
       "0               630308          495000.0          801000.0   \n",
       "1                    0               NaN               NaN   \n",
       "2              4615605         3106000.0         6661000.0   \n",
       "3                    0               NaN               NaN   \n",
       "4                    0               NaN               NaN   \n",
       "\n",
       "   No. of deaths_median  No. of deaths_min  No. of deaths_max  \\\n",
       "0                   298              110.0              510.0   \n",
       "1                     0                NaN                NaN   \n",
       "2                 13316             9970.0            16600.0   \n",
       "3                     0                NaN                NaN   \n",
       "4                     0                NaN                NaN   \n",
       "\n",
       "              WHO Region  \n",
       "0  Eastern Mediterranean  \n",
       "1                 Africa  \n",
       "2                 Africa  \n",
       "3               Americas  \n",
       "4                 Europe  "
      ]
     },
     "execution_count": 24,
     "metadata": {},
     "output_type": "execute_result"
    }
   ],
   "source": [
    "malaria = pd.read_csv(\"files/malaria_data\")\n",
    "malaria.head()"
   ]
  },
  {
   "cell_type": "code",
   "execution_count": 25,
   "id": "e207fa84",
   "metadata": {},
   "outputs": [
    {
     "data": {
      "text/html": [
       "<div>\n",
       "<style scoped>\n",
       "    .dataframe tbody tr th:only-of-type {\n",
       "        vertical-align: middle;\n",
       "    }\n",
       "\n",
       "    .dataframe tbody tr th {\n",
       "        vertical-align: top;\n",
       "    }\n",
       "\n",
       "    .dataframe thead th {\n",
       "        text-align: right;\n",
       "    }\n",
       "</style>\n",
       "<table border=\"1\" class=\"dataframe\">\n",
       "  <thead>\n",
       "    <tr style=\"text-align: right;\">\n",
       "      <th></th>\n",
       "      <th>Unnamed: 0</th>\n",
       "      <th>Country name</th>\n",
       "      <th>Average yearly temperature (° C)</th>\n",
       "      <th>Unnamed: 3</th>\n",
       "    </tr>\n",
       "  </thead>\n",
       "  <tbody>\n",
       "    <tr>\n",
       "      <th>0</th>\n",
       "      <td>1</td>\n",
       "      <td>Aruba</td>\n",
       "      <td>25.35</td>\n",
       "      <td>NaN</td>\n",
       "    </tr>\n",
       "    <tr>\n",
       "      <th>1</th>\n",
       "      <td>2</td>\n",
       "      <td>Andorra</td>\n",
       "      <td>7.60</td>\n",
       "      <td>NaN</td>\n",
       "    </tr>\n",
       "    <tr>\n",
       "      <th>2</th>\n",
       "      <td>3</td>\n",
       "      <td>Afghanistan</td>\n",
       "      <td>12.60</td>\n",
       "      <td>NaN</td>\n",
       "    </tr>\n",
       "    <tr>\n",
       "      <th>3</th>\n",
       "      <td>4</td>\n",
       "      <td>Angola</td>\n",
       "      <td>21.55</td>\n",
       "      <td>NaN</td>\n",
       "    </tr>\n",
       "    <tr>\n",
       "      <th>4</th>\n",
       "      <td>5</td>\n",
       "      <td>Albania</td>\n",
       "      <td>11.40</td>\n",
       "      <td>NaN</td>\n",
       "    </tr>\n",
       "  </tbody>\n",
       "</table>\n",
       "</div>"
      ],
      "text/plain": [
       "   Unnamed: 0 Country name  Average yearly temperature (° C)  Unnamed: 3\n",
       "0           1        Aruba                             25.35         NaN\n",
       "1           2      Andorra                              7.60         NaN\n",
       "2           3  Afghanistan                             12.60         NaN\n",
       "3           4       Angola                             21.55         NaN\n",
       "4           5      Albania                             11.40         NaN"
      ]
     },
     "execution_count": 25,
     "metadata": {},
     "output_type": "execute_result"
    }
   ],
   "source": [
    "avg_temp = pd.read_csv(\"files/average_yearly_temperature.csv\")\n",
    "avg_temp.head()"
   ]
  },
  {
   "cell_type": "markdown",
   "id": "14bee0c8",
   "metadata": {},
   "source": [
    "### Data cleaning"
   ]
  },
  {
   "cell_type": "code",
   "execution_count": 26,
   "id": "802f66a9",
   "metadata": {},
   "outputs": [
    {
     "data": {
      "text/html": [
       "<div>\n",
       "<style scoped>\n",
       "    .dataframe tbody tr th:only-of-type {\n",
       "        vertical-align: middle;\n",
       "    }\n",
       "\n",
       "    .dataframe tbody tr th {\n",
       "        vertical-align: top;\n",
       "    }\n",
       "\n",
       "    .dataframe thead th {\n",
       "        text-align: right;\n",
       "    }\n",
       "</style>\n",
       "<table border=\"1\" class=\"dataframe\">\n",
       "  <thead>\n",
       "    <tr style=\"text-align: right;\">\n",
       "      <th></th>\n",
       "      <th>Country</th>\n",
       "      <th>Year</th>\n",
       "      <th>No. of cases</th>\n",
       "      <th>No. of deaths</th>\n",
       "      <th>No. of cases_median</th>\n",
       "      <th>No. of cases_min</th>\n",
       "      <th>No. of cases_max</th>\n",
       "      <th>No. of deaths_median</th>\n",
       "      <th>No. of deaths_min</th>\n",
       "      <th>No. of deaths_max</th>\n",
       "      <th>WHO Region</th>\n",
       "    </tr>\n",
       "  </thead>\n",
       "  <tbody>\n",
       "    <tr>\n",
       "      <th>0</th>\n",
       "      <td>Afghanistan</td>\n",
       "      <td>2017</td>\n",
       "      <td>630308[495000-801000]</td>\n",
       "      <td>298[110-510]</td>\n",
       "      <td>630308</td>\n",
       "      <td>495000.0</td>\n",
       "      <td>801000.0</td>\n",
       "      <td>298</td>\n",
       "      <td>110.0</td>\n",
       "      <td>510.0</td>\n",
       "      <td>Eastern Mediterranean</td>\n",
       "    </tr>\n",
       "    <tr>\n",
       "      <th>2</th>\n",
       "      <td>Angola</td>\n",
       "      <td>2017</td>\n",
       "      <td>4615605[3106000-6661000]</td>\n",
       "      <td>13316[9970-16600]</td>\n",
       "      <td>4615605</td>\n",
       "      <td>3106000.0</td>\n",
       "      <td>6661000.0</td>\n",
       "      <td>13316</td>\n",
       "      <td>9970.0</td>\n",
       "      <td>16600.0</td>\n",
       "      <td>Africa</td>\n",
       "    </tr>\n",
       "    <tr>\n",
       "      <th>6</th>\n",
       "      <td>Bangladesh</td>\n",
       "      <td>2017</td>\n",
       "      <td>32924[30000-36000]</td>\n",
       "      <td>76[3-130]</td>\n",
       "      <td>32924</td>\n",
       "      <td>30000.0</td>\n",
       "      <td>36000.0</td>\n",
       "      <td>76</td>\n",
       "      <td>3.0</td>\n",
       "      <td>130.0</td>\n",
       "      <td>South-East Asia</td>\n",
       "    </tr>\n",
       "    <tr>\n",
       "      <th>8</th>\n",
       "      <td>Benin</td>\n",
       "      <td>2017</td>\n",
       "      <td>4111699[2774000-6552000]</td>\n",
       "      <td>7328[5740-8920]</td>\n",
       "      <td>4111699</td>\n",
       "      <td>2774000.0</td>\n",
       "      <td>6552000.0</td>\n",
       "      <td>7328</td>\n",
       "      <td>5740.0</td>\n",
       "      <td>8920.0</td>\n",
       "      <td>Africa</td>\n",
       "    </tr>\n",
       "    <tr>\n",
       "      <th>10</th>\n",
       "      <td>Bolivia (Plurinational State of)</td>\n",
       "      <td>2017</td>\n",
       "      <td>6512[4900-8300]</td>\n",
       "      <td>2[0-4]</td>\n",
       "      <td>6512</td>\n",
       "      <td>4900.0</td>\n",
       "      <td>8300.0</td>\n",
       "      <td>2</td>\n",
       "      <td>0.0</td>\n",
       "      <td>4.0</td>\n",
       "      <td>Americas</td>\n",
       "    </tr>\n",
       "  </tbody>\n",
       "</table>\n",
       "</div>"
      ],
      "text/plain": [
       "                             Country  Year              No. of cases  \\\n",
       "0                        Afghanistan  2017     630308[495000-801000]   \n",
       "2                             Angola  2017  4615605[3106000-6661000]   \n",
       "6                         Bangladesh  2017        32924[30000-36000]   \n",
       "8                              Benin  2017  4111699[2774000-6552000]   \n",
       "10  Bolivia (Plurinational State of)  2017           6512[4900-8300]   \n",
       "\n",
       "        No. of deaths  No. of cases_median  No. of cases_min  \\\n",
       "0        298[110-510]               630308          495000.0   \n",
       "2   13316[9970-16600]              4615605         3106000.0   \n",
       "6           76[3-130]                32924           30000.0   \n",
       "8     7328[5740-8920]              4111699         2774000.0   \n",
       "10             2[0-4]                 6512            4900.0   \n",
       "\n",
       "    No. of cases_max  No. of deaths_median  No. of deaths_min  \\\n",
       "0           801000.0                   298              110.0   \n",
       "2          6661000.0                 13316             9970.0   \n",
       "6            36000.0                    76                3.0   \n",
       "8          6552000.0                  7328             5740.0   \n",
       "10            8300.0                     2                0.0   \n",
       "\n",
       "    No. of deaths_max             WHO Region  \n",
       "0               510.0  Eastern Mediterranean  \n",
       "2             16600.0                 Africa  \n",
       "6               130.0        South-East Asia  \n",
       "8              8920.0                 Africa  \n",
       "10                4.0               Americas  "
      ]
     },
     "execution_count": 26,
     "metadata": {},
     "output_type": "execute_result"
    }
   ],
   "source": [
    "#Remove any nan and infinite values from malaria table\n",
    "malaria.replace([np.inf, -np.inf], np.nan, inplace=True)\n",
    "malaria.dropna(inplace=True)\n",
    "malaria.head()"
   ]
  },
  {
   "cell_type": "code",
   "execution_count": 27,
   "id": "773b8020",
   "metadata": {},
   "outputs": [
    {
     "data": {
      "text/html": [
       "<div>\n",
       "<style scoped>\n",
       "    .dataframe tbody tr th:only-of-type {\n",
       "        vertical-align: middle;\n",
       "    }\n",
       "\n",
       "    .dataframe tbody tr th {\n",
       "        vertical-align: top;\n",
       "    }\n",
       "\n",
       "    .dataframe thead th {\n",
       "        text-align: right;\n",
       "    }\n",
       "</style>\n",
       "<table border=\"1\" class=\"dataframe\">\n",
       "  <thead>\n",
       "    <tr style=\"text-align: right;\">\n",
       "      <th></th>\n",
       "      <th>Country name</th>\n",
       "      <th>Average yearly temperature (° C)</th>\n",
       "    </tr>\n",
       "  </thead>\n",
       "  <tbody>\n",
       "    <tr>\n",
       "      <th>0</th>\n",
       "      <td>Aruba</td>\n",
       "      <td>25.35</td>\n",
       "    </tr>\n",
       "    <tr>\n",
       "      <th>1</th>\n",
       "      <td>Andorra</td>\n",
       "      <td>7.60</td>\n",
       "    </tr>\n",
       "    <tr>\n",
       "      <th>2</th>\n",
       "      <td>Afghanistan</td>\n",
       "      <td>12.60</td>\n",
       "    </tr>\n",
       "    <tr>\n",
       "      <th>3</th>\n",
       "      <td>Angola</td>\n",
       "      <td>21.55</td>\n",
       "    </tr>\n",
       "    <tr>\n",
       "      <th>4</th>\n",
       "      <td>Albania</td>\n",
       "      <td>11.40</td>\n",
       "    </tr>\n",
       "  </tbody>\n",
       "</table>\n",
       "</div>"
      ],
      "text/plain": [
       "  Country name  Average yearly temperature (° C)\n",
       "0        Aruba                             25.35\n",
       "1      Andorra                              7.60\n",
       "2  Afghanistan                             12.60\n",
       "3       Angola                             21.55\n",
       "4      Albania                             11.40"
      ]
     },
     "execution_count": 27,
     "metadata": {},
     "output_type": "execute_result"
    }
   ],
   "source": [
    "#Remove unnecessary columns from average temperature table\n",
    "avg_temp = avg_temp.drop(columns=['Unnamed: 0', 'Unnamed: 3'])\n",
    "avg_temp.head()"
   ]
  },
  {
   "cell_type": "markdown",
   "id": "b47fdc8d",
   "metadata": {},
   "source": [
    "#### Removing Outliers"
   ]
  },
  {
<<<<<<< HEAD
   "cell_type": "markdown",
   "id": "3fb36e08",
   "metadata": {},
   "source": [
    "#### Checking For outliers"
   ]
  },
  {
   "cell_type": "code",
<<<<<<< Updated upstream
   "execution_count": 41,
   "id": "66eaca42",
=======
   "execution_count": 12,
   "id": "fc06a9e3",
>>>>>>> Stashed changes
   "metadata": {},
   "outputs": [
    {
     "data": {
      "text/plain": [
       "[Text(0.5, 1.0, 'Median Number of Cases BoxPlot - Tens of Millions')]"
      ]
     },
     "execution_count": 41,
     "metadata": {},
     "output_type": "execute_result"
    },
    {
     "data": {
      "image/png": "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\n",
      "text/plain": [
       "<Figure size 1080x720 with 1 Axes>"
      ]
     },
     "metadata": {
      "needs_background": "light"
     },
     "output_type": "display_data"
    }
   ],
   "source": [
    "f, ax = plt.subplots(figsize = (15, 10))\n",
    "sns.boxplot(x = \"Year\", y = \"No. of cases_median\", data = malaria).set(title = 'Median Number of Cases BoxPlot - Tens of Millions')"
   ]
  },
  {
   "cell_type": "code",
   "execution_count": 50,
   "id": "04f1c618",
   "metadata": {},
   "outputs": [
    {
     "name": "stdout",
     "output_type": "stream",
     "text": [
      "                              Country  No. of cases_median       WHO Region\n",
      "348  Democratic Republic of the Congo             23031390           Africa\n",
      "368                             India             11420000  South-East Asia\n",
      "390                           Nigeria             59365039           Africa\n"
     ]
    }
   ],
   "source": [
    "M2014 = malaria[malaria['Year'] == 2014]\n",
    "columns = ['Country', 'No. of cases_median', 'WHO Region']\n",
    "print(M2014[columns][(M2014['No. of cases_median'] > 10000000)])"
   ]
  },
  {
=======
>>>>>>> parent of 3d0bcf4 (Finished analysing outliers)
   "cell_type": "code",
   "execution_count": 12,
   "id": "af41320f",
   "metadata": {},
<<<<<<< HEAD
   "source": [
    "#### Analysis of outliers\n",
    "\n",
    "The box plots above highlight the spread of the median number of cases and median number of deaths per year in different countries respectively. This is to check for any outliers if there are any. The outliers from the different years are not genuine outliers which need to be removed as those are highlighting the cases within hotspots meaning that, that data is necessary for the analysis. This is further reinforced by the lack of volatility of the outliers from year to year. The same can be said for the box plots for the median number of deaths from year to year. The outliers highlight the deaths in the hotspots and there is no volatility from year to year hence there are no outliers to remove."
   ]
=======
   "outputs": [],
   "source": []
>>>>>>> parent of 3d0bcf4 (Finished analysing outliers)
  },
  {
   "cell_type": "markdown",
   "id": "4afa896c",
   "metadata": {},
   "source": [
    "# RFE Analysis"
   ]
  },
  {
   "cell_type": "markdown",
   "id": "b1d9e8dd",
   "metadata": {},
   "source": [
    "Region vs number of infections"
   ]
  },
  {
   "cell_type": "code",
<<<<<<< HEAD
<<<<<<< Updated upstream
   "execution_count": 9,
=======
   "execution_count": 55,
>>>>>>> Stashed changes
=======
   "execution_count": null,
>>>>>>> parent of 3d0bcf4 (Finished analysing outliers)
   "id": "4abfafc9",
   "metadata": {},
   "outputs": [],
   "source": [
    "from sklearn.feature_selection import RFE\n",
    "from sklearn.ensemble import RandomForestClassifier"
   ]
  },
  {
   "cell_type": "code",
   "execution_count": 73,
   "id": "81499bf9",
   "metadata": {},
   "outputs": [],
   "source": [
    "rfe_X_train, rfe_y_train = train_test_split(malaria, test_size = 0.2, random_state = 142)"
   ]
  },
  {
   "cell_type": "code",
   "execution_count": 75,
   "id": "65fbeeb4",
   "metadata": {},
   "outputs": [],
   "source": [
    "rfe = RFE(RandomForestClassifier(n_estimators = 100, random_state = 42), n_features_to_select = 10)\n",
    "# rfe.fit(rfe_X_train, rfe_y_train)"
   ]
  },
  {
   "cell_type": "markdown",
   "id": "b8775519",
   "metadata": {},
   "source": [
    "# K Nearest neighbour Analysis"
   ]
  },
  {
   "cell_type": "markdown",
   "id": "2f7aa4c5",
   "metadata": {},
   "source": [
    "Which variables are the most significant in relation to the spread of malaria?"
   ]
  },
  {
   "cell_type": "code",
   "execution_count": null,
   "id": "03b6ccb6",
   "metadata": {},
   "outputs": [],
   "source": []
  },
  {
   "cell_type": "markdown",
   "id": "14cc8793",
   "metadata": {},
   "source": [
    "# Data Visualisation"
   ]
  },
  {
   "cell_type": "markdown",
   "id": "1a680f11",
   "metadata": {},
   "source": [
    "#### Heatmaps"
   ]
  },
  {
   "cell_type": "code",
   "execution_count": null,
   "id": "68782763",
   "metadata": {},
   "outputs": [],
   "source": []
  },
  {
   "cell_type": "markdown",
   "id": "4548fc68",
   "metadata": {},
   "source": [
    "Display infections in the region"
   ]
  },
  {
   "cell_type": "code",
   "execution_count": 47,
   "id": "d505428a",
   "metadata": {},
   "outputs": [
    {
     "name": "stderr",
     "output_type": "stream",
     "text": [
      "/Users/priyan/opt/anaconda3/lib/python3.8/site-packages/seaborn/categorical.py:1296: UserWarning: 26.6% of the points cannot be placed; you may want to decrease the size of the markers or use stripplot.\n",
      "  warnings.warn(msg, UserWarning)\n",
      "/Users/priyan/opt/anaconda3/lib/python3.8/site-packages/seaborn/categorical.py:1296: UserWarning: 31.2% of the points cannot be placed; you may want to decrease the size of the markers or use stripplot.\n",
      "  warnings.warn(msg, UserWarning)\n",
      "/Users/priyan/opt/anaconda3/lib/python3.8/site-packages/seaborn/categorical.py:1296: UserWarning: 29.7% of the points cannot be placed; you may want to decrease the size of the markers or use stripplot.\n",
      "  warnings.warn(msg, UserWarning)\n",
      "/Users/priyan/opt/anaconda3/lib/python3.8/site-packages/seaborn/categorical.py:1296: UserWarning: 28.1% of the points cannot be placed; you may want to decrease the size of the markers or use stripplot.\n",
      "  warnings.warn(msg, UserWarning)\n",
      "/Users/priyan/opt/anaconda3/lib/python3.8/site-packages/seaborn/categorical.py:1296: UserWarning: 25.4% of the points cannot be placed; you may want to decrease the size of the markers or use stripplot.\n",
      "  warnings.warn(msg, UserWarning)\n",
      "/Users/priyan/opt/anaconda3/lib/python3.8/site-packages/seaborn/categorical.py:1296: UserWarning: 30.2% of the points cannot be placed; you may want to decrease the size of the markers or use stripplot.\n",
      "  warnings.warn(msg, UserWarning)\n",
      "/Users/priyan/opt/anaconda3/lib/python3.8/site-packages/seaborn/categorical.py:1296: UserWarning: 27.0% of the points cannot be placed; you may want to decrease the size of the markers or use stripplot.\n",
      "  warnings.warn(msg, UserWarning)\n"
     ]
    },
    {
     "data": {
      "text/plain": [
       "<matplotlib.legend.Legend at 0x11ef087c0>"
      ]
     },
     "execution_count": 47,
     "metadata": {},
     "output_type": "execute_result"
    },
    {
     "data": {
      "image/png": "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\n",
      "text/plain": [
       "<Figure size 720x432 with 1 Axes>"
      ]
     },
     "metadata": {
      "needs_background": "light"
     },
     "output_type": "display_data"
    }
   ],
   "source": [
    "plt.figure(figsize = (10,6))\n",
    "sns.swarmplot(x = 'Year', y = 'No. of cases_max', data = malaria, hue = 'WHO Region')\n",
    "plt.legend(bbox_to_anchor= (1, 1), loc = 2)"
   ]
  },
  {
   "cell_type": "code",
   "execution_count": null,
   "id": "12b33e65",
   "metadata": {},
   "outputs": [],
   "source": []
  },
  {
   "cell_type": "markdown",
   "id": "021cff93",
   "metadata": {},
   "source": [
    "# Algorithms"
   ]
  },
  {
   "cell_type": "markdown",
   "id": "6b3532ac",
   "metadata": {},
   "source": [
    "Model the effectiveness of preventative measures on the prevalence of the disease"
   ]
  },
  {
   "cell_type": "code",
   "execution_count": null,
   "id": "2bba3e88",
   "metadata": {},
   "outputs": [],
   "source": []
  }
 ],
 "metadata": {
  "kernelspec": {
   "display_name": "Python 3",
   "language": "python",
   "name": "python3"
  },
  "language_info": {
   "codemirror_mode": {
    "name": "ipython",
    "version": 3
   },
   "file_extension": ".py",
   "mimetype": "text/x-python",
   "name": "python",
   "nbconvert_exporter": "python",
   "pygments_lexer": "ipython3",
   "version": "3.8.8"
  }
 },
 "nbformat": 4,
 "nbformat_minor": 5
}
