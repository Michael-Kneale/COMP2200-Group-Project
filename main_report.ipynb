{
 "cells": [
  {
   "cell_type": "markdown",
   "id": "f684a58d",
   "metadata": {},
   "source": [
    "# COMP2200 Data science group project - Group 50"
   ]
  },
  {
   "cell_type": "markdown",
   "id": "bc3435fc",
   "metadata": {},
   "source": [
    "#### Malaria and the Factors Affecting its Spread"
   ]
  },
  {
   "cell_type": "code",
   "execution_count": 40,
   "id": "b6fe88d9",
   "metadata": {},
   "outputs": [],
   "source": [
    "import pandas as pd\n",
    "import numpy as np\n",
    "import matplotlib.pyplot as plt\n",
    "import seaborn as sns\n",
    "from sklearn.model_selection import train_test_split\n",
    "from sklearn.linear_model import LinearRegression\n",
    "from sklearn import metrics\n",
    "%matplotlib inline"
   ]
  },
  {
   "cell_type": "code",
   "execution_count": 2,
   "id": "43dfe4f4",
   "metadata": {},
   "outputs": [
    {
     "data": {
      "text/html": [
       "<div>\n",
       "<style scoped>\n",
       "    .dataframe tbody tr th:only-of-type {\n",
       "        vertical-align: middle;\n",
       "    }\n",
       "\n",
       "    .dataframe tbody tr th {\n",
       "        vertical-align: top;\n",
       "    }\n",
       "\n",
       "    .dataframe thead th {\n",
       "        text-align: right;\n",
       "    }\n",
       "</style>\n",
       "<table border=\"1\" class=\"dataframe\">\n",
       "  <thead>\n",
       "    <tr style=\"text-align: right;\">\n",
       "      <th></th>\n",
       "      <th>Country</th>\n",
       "      <th>Year</th>\n",
       "      <th>Cases</th>\n",
       "      <th>Deaths</th>\n",
       "      <th>CasesMedian</th>\n",
       "      <th>CasesMin</th>\n",
       "      <th>CasesMax</th>\n",
       "      <th>DeathsMedian</th>\n",
       "      <th>DeathsMin</th>\n",
       "      <th>DeathsMax</th>\n",
       "      <th>WHORegion</th>\n",
       "    </tr>\n",
       "  </thead>\n",
       "  <tbody>\n",
       "    <tr>\n",
       "      <th>0</th>\n",
       "      <td>Afghanistan</td>\n",
       "      <td>2017</td>\n",
       "      <td>630308[495000-801000]</td>\n",
       "      <td>298[110-510]</td>\n",
       "      <td>630308</td>\n",
       "      <td>495000.0</td>\n",
       "      <td>801000.0</td>\n",
       "      <td>298</td>\n",
       "      <td>110.0</td>\n",
       "      <td>510.0</td>\n",
       "      <td>Eastern Mediterranean</td>\n",
       "    </tr>\n",
       "    <tr>\n",
       "      <th>1</th>\n",
       "      <td>Algeria</td>\n",
       "      <td>2017</td>\n",
       "      <td>0</td>\n",
       "      <td>0</td>\n",
       "      <td>0</td>\n",
       "      <td>NaN</td>\n",
       "      <td>NaN</td>\n",
       "      <td>0</td>\n",
       "      <td>NaN</td>\n",
       "      <td>NaN</td>\n",
       "      <td>Africa</td>\n",
       "    </tr>\n",
       "    <tr>\n",
       "      <th>2</th>\n",
       "      <td>Angola</td>\n",
       "      <td>2017</td>\n",
       "      <td>4615605[3106000-6661000]</td>\n",
       "      <td>13316[9970-16600]</td>\n",
       "      <td>4615605</td>\n",
       "      <td>3106000.0</td>\n",
       "      <td>6661000.0</td>\n",
       "      <td>13316</td>\n",
       "      <td>9970.0</td>\n",
       "      <td>16600.0</td>\n",
       "      <td>Africa</td>\n",
       "    </tr>\n",
       "    <tr>\n",
       "      <th>3</th>\n",
       "      <td>Argentina</td>\n",
       "      <td>2017</td>\n",
       "      <td>0</td>\n",
       "      <td>0</td>\n",
       "      <td>0</td>\n",
       "      <td>NaN</td>\n",
       "      <td>NaN</td>\n",
       "      <td>0</td>\n",
       "      <td>NaN</td>\n",
       "      <td>NaN</td>\n",
       "      <td>Americas</td>\n",
       "    </tr>\n",
       "    <tr>\n",
       "      <th>4</th>\n",
       "      <td>Armenia</td>\n",
       "      <td>2017</td>\n",
       "      <td>0</td>\n",
       "      <td>0</td>\n",
       "      <td>0</td>\n",
       "      <td>NaN</td>\n",
       "      <td>NaN</td>\n",
       "      <td>0</td>\n",
       "      <td>NaN</td>\n",
       "      <td>NaN</td>\n",
       "      <td>Europe</td>\n",
       "    </tr>\n",
       "  </tbody>\n",
       "</table>\n",
       "</div>"
      ],
      "text/plain": [
       "       Country  Year                     Cases             Deaths  \\\n",
       "0  Afghanistan  2017     630308[495000-801000]       298[110-510]   \n",
       "1      Algeria  2017                         0                  0   \n",
       "2       Angola  2017  4615605[3106000-6661000]  13316[9970-16600]   \n",
       "3    Argentina  2017                         0                  0   \n",
       "4      Armenia  2017                         0                  0   \n",
       "\n",
       "   CasesMedian   CasesMin   CasesMax  DeathsMedian  DeathsMin  DeathsMax  \\\n",
       "0       630308   495000.0   801000.0           298      110.0      510.0   \n",
       "1            0        NaN        NaN             0        NaN        NaN   \n",
       "2      4615605  3106000.0  6661000.0         13316     9970.0    16600.0   \n",
       "3            0        NaN        NaN             0        NaN        NaN   \n",
       "4            0        NaN        NaN             0        NaN        NaN   \n",
       "\n",
       "               WHORegion  \n",
       "0  Eastern Mediterranean  \n",
       "1                 Africa  \n",
       "2                 Africa  \n",
       "3               Americas  \n",
       "4                 Europe  "
      ]
     },
     "execution_count": 2,
     "metadata": {},
     "output_type": "execute_result"
    }
   ],
   "source": [
    "malaria = pd.read_csv(\"files/malaria_data\")\n",
    "malaria.head()"
   ]
  },
  {
   "cell_type": "code",
   "execution_count": 3,
   "id": "e207fa84",
   "metadata": {},
   "outputs": [
    {
     "data": {
      "text/html": [
       "<div>\n",
       "<style scoped>\n",
       "    .dataframe tbody tr th:only-of-type {\n",
       "        vertical-align: middle;\n",
       "    }\n",
       "\n",
       "    .dataframe tbody tr th {\n",
       "        vertical-align: top;\n",
       "    }\n",
       "\n",
       "    .dataframe thead th {\n",
       "        text-align: right;\n",
       "    }\n",
       "</style>\n",
       "<table border=\"1\" class=\"dataframe\">\n",
       "  <thead>\n",
       "    <tr style=\"text-align: right;\">\n",
       "      <th></th>\n",
       "      <th>Unnamed: 0</th>\n",
       "      <th>Country name</th>\n",
       "      <th>Average yearly temperature (° C)</th>\n",
       "      <th>Unnamed: 3</th>\n",
       "    </tr>\n",
       "  </thead>\n",
       "  <tbody>\n",
       "    <tr>\n",
       "      <th>0</th>\n",
       "      <td>1</td>\n",
       "      <td>Aruba</td>\n",
       "      <td>25.35</td>\n",
       "      <td>NaN</td>\n",
       "    </tr>\n",
       "    <tr>\n",
       "      <th>1</th>\n",
       "      <td>2</td>\n",
       "      <td>Andorra</td>\n",
       "      <td>7.60</td>\n",
       "      <td>NaN</td>\n",
       "    </tr>\n",
       "    <tr>\n",
       "      <th>2</th>\n",
       "      <td>3</td>\n",
       "      <td>Afghanistan</td>\n",
       "      <td>12.60</td>\n",
       "      <td>NaN</td>\n",
       "    </tr>\n",
       "    <tr>\n",
       "      <th>3</th>\n",
       "      <td>4</td>\n",
       "      <td>Angola</td>\n",
       "      <td>21.55</td>\n",
       "      <td>NaN</td>\n",
       "    </tr>\n",
       "    <tr>\n",
       "      <th>4</th>\n",
       "      <td>5</td>\n",
       "      <td>Albania</td>\n",
       "      <td>11.40</td>\n",
       "      <td>NaN</td>\n",
       "    </tr>\n",
       "  </tbody>\n",
       "</table>\n",
       "</div>"
      ],
      "text/plain": [
       "   Unnamed: 0 Country name  Average yearly temperature (° C)  Unnamed: 3\n",
       "0           1        Aruba                             25.35         NaN\n",
       "1           2      Andorra                              7.60         NaN\n",
       "2           3  Afghanistan                             12.60         NaN\n",
       "3           4       Angola                             21.55         NaN\n",
       "4           5      Albania                             11.40         NaN"
      ]
     },
     "execution_count": 3,
     "metadata": {},
     "output_type": "execute_result"
    }
   ],
   "source": [
    "avg_temp = pd.read_csv(\"files/average_yearly_temperature.csv\")\n",
    "avg_temp.head()"
   ]
  },
  {
   "cell_type": "code",
   "execution_count": 4,
   "id": "32498290",
   "metadata": {},
   "outputs": [
    {
     "data": {
      "text/html": [
       "<div>\n",
       "<style scoped>\n",
       "    .dataframe tbody tr th:only-of-type {\n",
       "        vertical-align: middle;\n",
       "    }\n",
       "\n",
       "    .dataframe tbody tr th {\n",
       "        vertical-align: top;\n",
       "    }\n",
       "\n",
       "    .dataframe thead th {\n",
       "        text-align: right;\n",
       "    }\n",
       "</style>\n",
       "<table border=\"1\" class=\"dataframe\">\n",
       "  <thead>\n",
       "    <tr style=\"text-align: right;\">\n",
       "      <th></th>\n",
       "      <th>Country Name</th>\n",
       "      <th>2011</th>\n",
       "      <th>2012</th>\n",
       "      <th>2013</th>\n",
       "      <th>2014</th>\n",
       "      <th>2015</th>\n",
       "      <th>2016</th>\n",
       "      <th>2017</th>\n",
       "    </tr>\n",
       "  </thead>\n",
       "  <tbody>\n",
       "    <tr>\n",
       "      <th>0</th>\n",
       "      <td>Afghanistan</td>\n",
       "      <td>61.553</td>\n",
       "      <td>62.054</td>\n",
       "      <td>62.525</td>\n",
       "      <td>62.966</td>\n",
       "      <td>63.377</td>\n",
       "      <td>63.763</td>\n",
       "      <td>64.13</td>\n",
       "    </tr>\n",
       "    <tr>\n",
       "      <th>1</th>\n",
       "      <td>Albania</td>\n",
       "      <td>76.914</td>\n",
       "      <td>77.252</td>\n",
       "      <td>77.554</td>\n",
       "      <td>77.813</td>\n",
       "      <td>78.025</td>\n",
       "      <td>78.194</td>\n",
       "      <td>78.333</td>\n",
       "    </tr>\n",
       "    <tr>\n",
       "      <th>2</th>\n",
       "      <td>Algeria</td>\n",
       "      <td>75.199</td>\n",
       "      <td>75.436</td>\n",
       "      <td>75.661</td>\n",
       "      <td>75.878</td>\n",
       "      <td>76.090</td>\n",
       "      <td>76.298</td>\n",
       "      <td>76.499</td>\n",
       "    </tr>\n",
       "    <tr>\n",
       "      <th>3</th>\n",
       "      <td>Angola</td>\n",
       "      <td>56.33</td>\n",
       "      <td>57.236</td>\n",
       "      <td>58.054</td>\n",
       "      <td>58.776</td>\n",
       "      <td>59.398</td>\n",
       "      <td>59.925</td>\n",
       "      <td>60.379</td>\n",
       "    </tr>\n",
       "    <tr>\n",
       "      <th>4</th>\n",
       "      <td>Antigua and Barbuda</td>\n",
       "      <td>75.956</td>\n",
       "      <td>76.087</td>\n",
       "      <td>76.218</td>\n",
       "      <td>76.349</td>\n",
       "      <td>76.483</td>\n",
       "      <td>76.617</td>\n",
       "      <td>76.752</td>\n",
       "    </tr>\n",
       "  </tbody>\n",
       "</table>\n",
       "</div>"
      ],
      "text/plain": [
       "          Country Name    2011    2012    2013    2014    2015    2016    2017\n",
       "0          Afghanistan  61.553  62.054  62.525  62.966  63.377  63.763   64.13\n",
       "1              Albania  76.914  77.252  77.554  77.813  78.025  78.194  78.333\n",
       "2              Algeria  75.199  75.436  75.661  75.878  76.090  76.298  76.499\n",
       "3               Angola   56.33  57.236  58.054  58.776  59.398  59.925  60.379\n",
       "4  Antigua and Barbuda  75.956  76.087  76.218  76.349  76.483  76.617  76.752"
      ]
     },
     "execution_count": 4,
     "metadata": {},
     "output_type": "execute_result"
    }
   ],
   "source": [
    "Life_Expect = pd.read_excel(\"files/HDI.xlsx\")\n",
    "Life_Expect.head()"
   ]
  },
  {
   "cell_type": "code",
   "execution_count": 5,
   "id": "4f6cbe1d",
   "metadata": {},
   "outputs": [
    {
     "data": {
      "text/html": [
       "<div>\n",
       "<style scoped>\n",
       "    .dataframe tbody tr th:only-of-type {\n",
       "        vertical-align: middle;\n",
       "    }\n",
       "\n",
       "    .dataframe tbody tr th {\n",
       "        vertical-align: top;\n",
       "    }\n",
       "\n",
       "    .dataframe thead th {\n",
       "        text-align: right;\n",
       "    }\n",
       "</style>\n",
       "<table border=\"1\" class=\"dataframe\">\n",
       "  <thead>\n",
       "    <tr style=\"text-align: right;\">\n",
       "      <th></th>\n",
       "      <th>Country Name</th>\n",
       "      <th>2011</th>\n",
       "      <th>2012</th>\n",
       "      <th>2013</th>\n",
       "      <th>2014</th>\n",
       "      <th>2015</th>\n",
       "      <th>2016</th>\n",
       "      <th>2017</th>\n",
       "      <th>2018</th>\n",
       "      <th>2019</th>\n",
       "      <th>2020</th>\n",
       "    </tr>\n",
       "  </thead>\n",
       "  <tbody>\n",
       "    <tr>\n",
       "      <th>0</th>\n",
       "      <td>Aruba</td>\n",
       "      <td>24985.013920</td>\n",
       "      <td>24712.493260</td>\n",
       "      <td>26441.619940</td>\n",
       "      <td>26893.011510</td>\n",
       "      <td>28396.908420</td>\n",
       "      <td>28452.170610</td>\n",
       "      <td>29350.805020</td>\n",
       "      <td>30253.279360</td>\n",
       "      <td>NaN</td>\n",
       "      <td>NaN</td>\n",
       "    </tr>\n",
       "    <tr>\n",
       "      <th>1</th>\n",
       "      <td>Africa Eastern and Southern</td>\n",
       "      <td>1686.695763</td>\n",
       "      <td>1672.363658</td>\n",
       "      <td>1653.188436</td>\n",
       "      <td>1658.650062</td>\n",
       "      <td>1507.800256</td>\n",
       "      <td>1404.953164</td>\n",
       "      <td>1540.232473</td>\n",
       "      <td>1534.171767</td>\n",
       "      <td>1485.307425</td>\n",
       "      <td>1330.140232</td>\n",
       "    </tr>\n",
       "    <tr>\n",
       "      <th>2</th>\n",
       "      <td>Afghanistan</td>\n",
       "      <td>591.162798</td>\n",
       "      <td>641.871438</td>\n",
       "      <td>637.165464</td>\n",
       "      <td>613.856505</td>\n",
       "      <td>578.466353</td>\n",
       "      <td>509.220101</td>\n",
       "      <td>519.888913</td>\n",
       "      <td>493.756581</td>\n",
       "      <td>507.103392</td>\n",
       "      <td>508.808409</td>\n",
       "    </tr>\n",
       "    <tr>\n",
       "      <th>3</th>\n",
       "      <td>Africa Western and Central</td>\n",
       "      <td>1827.518347</td>\n",
       "      <td>1936.390962</td>\n",
       "      <td>2123.392433</td>\n",
       "      <td>2166.743309</td>\n",
       "      <td>1886.248158</td>\n",
       "      <td>1666.422406</td>\n",
       "      <td>1606.978332</td>\n",
       "      <td>1695.959215</td>\n",
       "      <td>1772.339155</td>\n",
       "      <td>1714.426800</td>\n",
       "    </tr>\n",
       "    <tr>\n",
       "      <th>4</th>\n",
       "      <td>Angola</td>\n",
       "      <td>4615.468219</td>\n",
       "      <td>5100.097027</td>\n",
       "      <td>5254.881126</td>\n",
       "      <td>5408.411700</td>\n",
       "      <td>4166.979833</td>\n",
       "      <td>3506.073128</td>\n",
       "      <td>4095.810057</td>\n",
       "      <td>3289.643995</td>\n",
       "      <td>2809.626088</td>\n",
       "      <td>1895.770869</td>\n",
       "    </tr>\n",
       "  </tbody>\n",
       "</table>\n",
       "</div>"
      ],
      "text/plain": [
       "                  Country Name          2011          2012          2013  \\\n",
       "0                        Aruba  24985.013920  24712.493260  26441.619940   \n",
       "1  Africa Eastern and Southern   1686.695763   1672.363658   1653.188436   \n",
       "2                  Afghanistan    591.162798    641.871438    637.165464   \n",
       "3   Africa Western and Central   1827.518347   1936.390962   2123.392433   \n",
       "4                       Angola   4615.468219   5100.097027   5254.881126   \n",
       "\n",
       "           2014          2015          2016          2017          2018  \\\n",
       "0  26893.011510  28396.908420  28452.170610  29350.805020  30253.279360   \n",
       "1   1658.650062   1507.800256   1404.953164   1540.232473   1534.171767   \n",
       "2    613.856505    578.466353    509.220101    519.888913    493.756581   \n",
       "3   2166.743309   1886.248158   1666.422406   1606.978332   1695.959215   \n",
       "4   5408.411700   4166.979833   3506.073128   4095.810057   3289.643995   \n",
       "\n",
       "          2019         2020  \n",
       "0          NaN          NaN  \n",
       "1  1485.307425  1330.140232  \n",
       "2   507.103392   508.808409  \n",
       "3  1772.339155  1714.426800  \n",
       "4  2809.626088  1895.770869  "
      ]
     },
     "execution_count": 5,
     "metadata": {},
     "output_type": "execute_result"
    }
   ],
   "source": [
    "GDP = pd.read_csv(\"files/GDP Per Capita.csv\")\n",
    "GDP.head()"
   ]
  },
  {
   "cell_type": "markdown",
   "id": "14bee0c8",
   "metadata": {},
   "source": [
    "### Data cleaning"
   ]
  },
  {
   "cell_type": "code",
   "execution_count": 6,
   "id": "802f66a9",
   "metadata": {},
   "outputs": [
    {
     "data": {
      "text/html": [
       "<div>\n",
       "<style scoped>\n",
       "    .dataframe tbody tr th:only-of-type {\n",
       "        vertical-align: middle;\n",
       "    }\n",
       "\n",
       "    .dataframe tbody tr th {\n",
       "        vertical-align: top;\n",
       "    }\n",
       "\n",
       "    .dataframe thead th {\n",
       "        text-align: right;\n",
       "    }\n",
       "</style>\n",
       "<table border=\"1\" class=\"dataframe\">\n",
       "  <thead>\n",
       "    <tr style=\"text-align: right;\">\n",
       "      <th></th>\n",
       "      <th>Country</th>\n",
       "      <th>Year</th>\n",
       "      <th>Cases</th>\n",
       "      <th>Deaths</th>\n",
       "      <th>CasesMedian</th>\n",
       "      <th>CasesMin</th>\n",
       "      <th>CasesMax</th>\n",
       "      <th>DeathsMedian</th>\n",
       "      <th>DeathsMin</th>\n",
       "      <th>DeathsMax</th>\n",
       "      <th>WHORegion</th>\n",
       "    </tr>\n",
       "  </thead>\n",
       "  <tbody>\n",
       "    <tr>\n",
       "      <th>0</th>\n",
       "      <td>Afghanistan</td>\n",
       "      <td>2017</td>\n",
       "      <td>630308[495000-801000]</td>\n",
       "      <td>298[110-510]</td>\n",
       "      <td>630308</td>\n",
       "      <td>495000.0</td>\n",
       "      <td>801000.0</td>\n",
       "      <td>298</td>\n",
       "      <td>110.0</td>\n",
       "      <td>510.0</td>\n",
       "      <td>Eastern Mediterranean</td>\n",
       "    </tr>\n",
       "    <tr>\n",
       "      <th>2</th>\n",
       "      <td>Angola</td>\n",
       "      <td>2017</td>\n",
       "      <td>4615605[3106000-6661000]</td>\n",
       "      <td>13316[9970-16600]</td>\n",
       "      <td>4615605</td>\n",
       "      <td>3106000.0</td>\n",
       "      <td>6661000.0</td>\n",
       "      <td>13316</td>\n",
       "      <td>9970.0</td>\n",
       "      <td>16600.0</td>\n",
       "      <td>Africa</td>\n",
       "    </tr>\n",
       "    <tr>\n",
       "      <th>6</th>\n",
       "      <td>Bangladesh</td>\n",
       "      <td>2017</td>\n",
       "      <td>32924[30000-36000]</td>\n",
       "      <td>76[3-130]</td>\n",
       "      <td>32924</td>\n",
       "      <td>30000.0</td>\n",
       "      <td>36000.0</td>\n",
       "      <td>76</td>\n",
       "      <td>3.0</td>\n",
       "      <td>130.0</td>\n",
       "      <td>South-East Asia</td>\n",
       "    </tr>\n",
       "    <tr>\n",
       "      <th>8</th>\n",
       "      <td>Benin</td>\n",
       "      <td>2017</td>\n",
       "      <td>4111699[2774000-6552000]</td>\n",
       "      <td>7328[5740-8920]</td>\n",
       "      <td>4111699</td>\n",
       "      <td>2774000.0</td>\n",
       "      <td>6552000.0</td>\n",
       "      <td>7328</td>\n",
       "      <td>5740.0</td>\n",
       "      <td>8920.0</td>\n",
       "      <td>Africa</td>\n",
       "    </tr>\n",
       "    <tr>\n",
       "      <th>10</th>\n",
       "      <td>Bolivia (Plurinational State of)</td>\n",
       "      <td>2017</td>\n",
       "      <td>6512[4900-8300]</td>\n",
       "      <td>2[0-4]</td>\n",
       "      <td>6512</td>\n",
       "      <td>4900.0</td>\n",
       "      <td>8300.0</td>\n",
       "      <td>2</td>\n",
       "      <td>0.0</td>\n",
       "      <td>4.0</td>\n",
       "      <td>Americas</td>\n",
       "    </tr>\n",
       "  </tbody>\n",
       "</table>\n",
       "</div>"
      ],
      "text/plain": [
       "                             Country  Year                     Cases  \\\n",
       "0                        Afghanistan  2017     630308[495000-801000]   \n",
       "2                             Angola  2017  4615605[3106000-6661000]   \n",
       "6                         Bangladesh  2017        32924[30000-36000]   \n",
       "8                              Benin  2017  4111699[2774000-6552000]   \n",
       "10  Bolivia (Plurinational State of)  2017           6512[4900-8300]   \n",
       "\n",
       "               Deaths  CasesMedian   CasesMin   CasesMax  DeathsMedian  \\\n",
       "0        298[110-510]       630308   495000.0   801000.0           298   \n",
       "2   13316[9970-16600]      4615605  3106000.0  6661000.0         13316   \n",
       "6           76[3-130]        32924    30000.0    36000.0            76   \n",
       "8     7328[5740-8920]      4111699  2774000.0  6552000.0          7328   \n",
       "10             2[0-4]         6512     4900.0     8300.0             2   \n",
       "\n",
       "    DeathsMin  DeathsMax              WHORegion  \n",
       "0       110.0      510.0  Eastern Mediterranean  \n",
       "2      9970.0    16600.0                 Africa  \n",
       "6         3.0      130.0        South-East Asia  \n",
       "8      5740.0     8920.0                 Africa  \n",
       "10        0.0        4.0               Americas  "
      ]
     },
     "execution_count": 6,
     "metadata": {},
     "output_type": "execute_result"
    }
   ],
   "source": [
    "#Remove any NaN and infinite values from malaria table\n",
    "malaria.replace([np.inf, -np.inf], np.nan, inplace=True)\n",
    "malaria.dropna(inplace=True)\n",
    "malaria.head()"
   ]
  },
  {
   "cell_type": "code",
   "execution_count": 7,
   "id": "773b8020",
   "metadata": {},
   "outputs": [
    {
     "data": {
      "text/html": [
       "<div>\n",
       "<style scoped>\n",
       "    .dataframe tbody tr th:only-of-type {\n",
       "        vertical-align: middle;\n",
       "    }\n",
       "\n",
       "    .dataframe tbody tr th {\n",
       "        vertical-align: top;\n",
       "    }\n",
       "\n",
       "    .dataframe thead th {\n",
       "        text-align: right;\n",
       "    }\n",
       "</style>\n",
       "<table border=\"1\" class=\"dataframe\">\n",
       "  <thead>\n",
       "    <tr style=\"text-align: right;\">\n",
       "      <th></th>\n",
       "      <th>Country name</th>\n",
       "      <th>Average yearly temperature (° C)</th>\n",
       "    </tr>\n",
       "  </thead>\n",
       "  <tbody>\n",
       "    <tr>\n",
       "      <th>0</th>\n",
       "      <td>Aruba</td>\n",
       "      <td>25.35</td>\n",
       "    </tr>\n",
       "    <tr>\n",
       "      <th>1</th>\n",
       "      <td>Andorra</td>\n",
       "      <td>7.60</td>\n",
       "    </tr>\n",
       "    <tr>\n",
       "      <th>2</th>\n",
       "      <td>Afghanistan</td>\n",
       "      <td>12.60</td>\n",
       "    </tr>\n",
       "    <tr>\n",
       "      <th>3</th>\n",
       "      <td>Angola</td>\n",
       "      <td>21.55</td>\n",
       "    </tr>\n",
       "    <tr>\n",
       "      <th>4</th>\n",
       "      <td>Albania</td>\n",
       "      <td>11.40</td>\n",
       "    </tr>\n",
       "  </tbody>\n",
       "</table>\n",
       "</div>"
      ],
      "text/plain": [
       "  Country name  Average yearly temperature (° C)\n",
       "0        Aruba                             25.35\n",
       "1      Andorra                              7.60\n",
       "2  Afghanistan                             12.60\n",
       "3       Angola                             21.55\n",
       "4      Albania                             11.40"
      ]
     },
     "execution_count": 7,
     "metadata": {},
     "output_type": "execute_result"
    }
   ],
   "source": [
    "#Remove unnecessary columns from average temperature table\n",
    "avg_temp = avg_temp.drop(columns=['Unnamed: 0', 'Unnamed: 3'])\n",
    "avg_temp.head()"
   ]
  },
  {
   "cell_type": "code",
   "execution_count": 8,
   "id": "e0279c98",
   "metadata": {},
   "outputs": [
    {
     "data": {
      "text/html": [
       "<div>\n",
       "<style scoped>\n",
       "    .dataframe tbody tr th:only-of-type {\n",
       "        vertical-align: middle;\n",
       "    }\n",
       "\n",
       "    .dataframe tbody tr th {\n",
       "        vertical-align: top;\n",
       "    }\n",
       "\n",
       "    .dataframe thead th {\n",
       "        text-align: right;\n",
       "    }\n",
       "</style>\n",
       "<table border=\"1\" class=\"dataframe\">\n",
       "  <thead>\n",
       "    <tr style=\"text-align: right;\">\n",
       "      <th></th>\n",
       "      <th>Country Name</th>\n",
       "      <th>2011</th>\n",
       "      <th>2012</th>\n",
       "      <th>2013</th>\n",
       "      <th>2014</th>\n",
       "      <th>2015</th>\n",
       "      <th>2016</th>\n",
       "      <th>2017</th>\n",
       "    </tr>\n",
       "  </thead>\n",
       "  <tbody>\n",
       "    <tr>\n",
       "      <th>0</th>\n",
       "      <td>Afghanistan</td>\n",
       "      <td>61.553</td>\n",
       "      <td>62.054</td>\n",
       "      <td>62.525</td>\n",
       "      <td>62.966</td>\n",
       "      <td>63.377</td>\n",
       "      <td>63.763</td>\n",
       "      <td>64.13</td>\n",
       "    </tr>\n",
       "    <tr>\n",
       "      <th>1</th>\n",
       "      <td>Albania</td>\n",
       "      <td>76.914</td>\n",
       "      <td>77.252</td>\n",
       "      <td>77.554</td>\n",
       "      <td>77.813</td>\n",
       "      <td>78.025</td>\n",
       "      <td>78.194</td>\n",
       "      <td>78.333</td>\n",
       "    </tr>\n",
       "    <tr>\n",
       "      <th>2</th>\n",
       "      <td>Algeria</td>\n",
       "      <td>75.199</td>\n",
       "      <td>75.436</td>\n",
       "      <td>75.661</td>\n",
       "      <td>75.878</td>\n",
       "      <td>76.090</td>\n",
       "      <td>76.298</td>\n",
       "      <td>76.499</td>\n",
       "    </tr>\n",
       "    <tr>\n",
       "      <th>3</th>\n",
       "      <td>Angola</td>\n",
       "      <td>56.33</td>\n",
       "      <td>57.236</td>\n",
       "      <td>58.054</td>\n",
       "      <td>58.776</td>\n",
       "      <td>59.398</td>\n",
       "      <td>59.925</td>\n",
       "      <td>60.379</td>\n",
       "    </tr>\n",
       "    <tr>\n",
       "      <th>4</th>\n",
       "      <td>Antigua and Barbuda</td>\n",
       "      <td>75.956</td>\n",
       "      <td>76.087</td>\n",
       "      <td>76.218</td>\n",
       "      <td>76.349</td>\n",
       "      <td>76.483</td>\n",
       "      <td>76.617</td>\n",
       "      <td>76.752</td>\n",
       "    </tr>\n",
       "  </tbody>\n",
       "</table>\n",
       "</div>"
      ],
      "text/plain": [
       "          Country Name    2011    2012    2013    2014    2015    2016    2017\n",
       "0          Afghanistan  61.553  62.054  62.525  62.966  63.377  63.763   64.13\n",
       "1              Albania  76.914  77.252  77.554  77.813  78.025  78.194  78.333\n",
       "2              Algeria  75.199  75.436  75.661  75.878  76.090  76.298  76.499\n",
       "3               Angola   56.33  57.236  58.054  58.776  59.398  59.925  60.379\n",
       "4  Antigua and Barbuda  75.956  76.087  76.218  76.349  76.483  76.617  76.752"
      ]
     },
     "execution_count": 8,
     "metadata": {},
     "output_type": "execute_result"
    }
   ],
   "source": [
    "#Remove any NaN/infinite values\n",
    "Life_Expect.drop(list(Life_Expect.filter(regex = 'Unnamed')), axis = 1, inplace = True)\n",
    "Life_Expect.replace([np.inf, -np.inf], np.nan, inplace=True)\n",
    "Life_Expect.dropna(inplace=True)\n",
    "Life_Expect.head()"
   ]
  },
  {
   "cell_type": "code",
   "execution_count": 9,
   "id": "417100ee",
   "metadata": {},
   "outputs": [
    {
     "data": {
      "text/html": [
       "<div>\n",
       "<style scoped>\n",
       "    .dataframe tbody tr th:only-of-type {\n",
       "        vertical-align: middle;\n",
       "    }\n",
       "\n",
       "    .dataframe tbody tr th {\n",
       "        vertical-align: top;\n",
       "    }\n",
       "\n",
       "    .dataframe thead th {\n",
       "        text-align: right;\n",
       "    }\n",
       "</style>\n",
       "<table border=\"1\" class=\"dataframe\">\n",
       "  <thead>\n",
       "    <tr style=\"text-align: right;\">\n",
       "      <th></th>\n",
       "      <th>Country Name</th>\n",
       "      <th>2011</th>\n",
       "      <th>2012</th>\n",
       "      <th>2013</th>\n",
       "      <th>2014</th>\n",
       "      <th>2015</th>\n",
       "      <th>2016</th>\n",
       "      <th>2017</th>\n",
       "    </tr>\n",
       "  </thead>\n",
       "  <tbody>\n",
       "    <tr>\n",
       "      <th>0</th>\n",
       "      <td>Aruba</td>\n",
       "      <td>24985.013920</td>\n",
       "      <td>24712.493260</td>\n",
       "      <td>26441.619940</td>\n",
       "      <td>26893.011510</td>\n",
       "      <td>28396.908420</td>\n",
       "      <td>28452.170610</td>\n",
       "      <td>29350.805020</td>\n",
       "    </tr>\n",
       "    <tr>\n",
       "      <th>1</th>\n",
       "      <td>Africa Eastern and Southern</td>\n",
       "      <td>1686.695763</td>\n",
       "      <td>1672.363658</td>\n",
       "      <td>1653.188436</td>\n",
       "      <td>1658.650062</td>\n",
       "      <td>1507.800256</td>\n",
       "      <td>1404.953164</td>\n",
       "      <td>1540.232473</td>\n",
       "    </tr>\n",
       "    <tr>\n",
       "      <th>2</th>\n",
       "      <td>Afghanistan</td>\n",
       "      <td>591.162798</td>\n",
       "      <td>641.871438</td>\n",
       "      <td>637.165464</td>\n",
       "      <td>613.856505</td>\n",
       "      <td>578.466353</td>\n",
       "      <td>509.220101</td>\n",
       "      <td>519.888913</td>\n",
       "    </tr>\n",
       "    <tr>\n",
       "      <th>3</th>\n",
       "      <td>Africa Western and Central</td>\n",
       "      <td>1827.518347</td>\n",
       "      <td>1936.390962</td>\n",
       "      <td>2123.392433</td>\n",
       "      <td>2166.743309</td>\n",
       "      <td>1886.248158</td>\n",
       "      <td>1666.422406</td>\n",
       "      <td>1606.978332</td>\n",
       "    </tr>\n",
       "    <tr>\n",
       "      <th>4</th>\n",
       "      <td>Angola</td>\n",
       "      <td>4615.468219</td>\n",
       "      <td>5100.097027</td>\n",
       "      <td>5254.881126</td>\n",
       "      <td>5408.411700</td>\n",
       "      <td>4166.979833</td>\n",
       "      <td>3506.073128</td>\n",
       "      <td>4095.810057</td>\n",
       "    </tr>\n",
       "  </tbody>\n",
       "</table>\n",
       "</div>"
      ],
      "text/plain": [
       "                  Country Name          2011          2012          2013  \\\n",
       "0                        Aruba  24985.013920  24712.493260  26441.619940   \n",
       "1  Africa Eastern and Southern   1686.695763   1672.363658   1653.188436   \n",
       "2                  Afghanistan    591.162798    641.871438    637.165464   \n",
       "3   Africa Western and Central   1827.518347   1936.390962   2123.392433   \n",
       "4                       Angola   4615.468219   5100.097027   5254.881126   \n",
       "\n",
       "           2014          2015          2016          2017  \n",
       "0  26893.011510  28396.908420  28452.170610  29350.805020  \n",
       "1   1658.650062   1507.800256   1404.953164   1540.232473  \n",
       "2    613.856505    578.466353    509.220101    519.888913  \n",
       "3   2166.743309   1886.248158   1666.422406   1606.978332  \n",
       "4   5408.411700   4166.979833   3506.073128   4095.810057  "
      ]
     },
     "execution_count": 9,
     "metadata": {},
     "output_type": "execute_result"
    }
   ],
   "source": [
    "#Remove unnecessary columns (irrelevant years) and NaN/infinite values\n",
    "GDP = GDP.drop(columns=['2018', '2019', '2020'])\n",
    "GDP.replace([np.inf, -np.inf], np.nan, inplace=True)\n",
    "GDP.dropna(inplace=True)\n",
    "GDP.head()"
   ]
  },
  {
   "cell_type": "code",
   "execution_count": 10,
   "id": "8bbc75f7",
   "metadata": {},
   "outputs": [],
   "source": [
    "#Changing the names of countries in the GDP dataframe so as\n",
    "#to be consistent with the malaria dataframe\n",
    "GDP.at[44, 'Country Name'] = 'Congo'\n",
    "GDP.at[67, 'Country Name'] = 'Egypt'\n",
    "GDP.at[90, 'Country Name'] = 'Gambia'\n",
    "GDP.at[112, 'Country Name'] = 'Iran (Islamic Republic of)'\n",
    "GDP.at[122, 'Country Name'] = 'Kyrgyzstan'\n",
    "GDP.at[126, 'Country Name'] = 'Republic of Korea'\n",
    "GDP.at[129, 'Country Name'] = \"Lao People's Democratic Republic\"\n",
    "GDP.at[193, 'Country Name'] = \"Democratic People's Republic of Korea\"\n",
    "GDP.at[254, 'Country Name'] = \"Venezuela (Bolivarian Republic of)\"\n",
    "GDP.at[257, 'Country Name'] = \"Viet Nam\"\n",
    "GDP.at[262, 'Country Name'] = \"Yemen\""
   ]
  },
  {
   "cell_type": "markdown",
   "id": "882184c7",
   "metadata": {},
   "source": [
    "#### Removing Outliers"
   ]
  },
  {
   "cell_type": "markdown",
   "id": "3fb36e08",
   "metadata": {},
   "source": [
    "#### Checking For outliers"
   ]
  },
  {
   "cell_type": "code",
   "execution_count": 11,
   "id": "66eaca42",
   "metadata": {},
   "outputs": [
    {
     "data": {
      "text/plain": [
       "[Text(0.5, 1.0, 'Median Number of Cases BoxPlot - Tens of Millions')]"
      ]
     },
     "execution_count": 11,
     "metadata": {},
     "output_type": "execute_result"
    },
    {
     "data": {
      "image/png": "[encoded data removed]",
      "text/plain": [
       "<Figure size 1080x720 with 1 Axes>"
      ]
     },
     "metadata": {
      "needs_background": "light"
     },
     "output_type": "display_data"
    }
   ],
   "source": [
    "f, ax = plt.subplots(figsize = (15, 10))\n",
    "sns.boxplot(x = \"Year\", y = \"CasesMedian\", data = malaria).set(title = 'Median Number of Cases BoxPlot - Tens of Millions')"
   ]
  },
  {
   "cell_type": "code",
   "execution_count": 12,
   "id": "04f1c618",
   "metadata": {},
   "outputs": [
    {
     "name": "stdout",
     "output_type": "stream",
     "text": [
      "                              Country  CasesMedian        WHORegion\n",
      "348  Democratic Republic of the Congo     23031390           Africa\n",
      "368                             India     11420000  South-East Asia\n",
      "390                           Nigeria     59365039           Africa\n"
     ]
    }
   ],
   "source": [
    "M2014 = malaria[malaria['Year'] == 2014]\n",
    "columns = ['Country', 'CasesMedian', 'WHORegion']\n",
    "print(M2014[columns][(M2014['CasesMedian'] > 10000000)])"
   ]
  },
  {
   "cell_type": "code",
   "execution_count": 13,
   "id": "6379894c",
   "metadata": {},
   "outputs": [
    {
     "data": {
      "text/plain": [
       "[Text(0.5, 1.0, 'Median Number of Deaths BoxPlot')]"
      ]
     },
     "execution_count": 13,
     "metadata": {},
     "output_type": "execute_result"
    },
    {
     "data": {
      "image/png": "[encoded data removed]",
      "text/plain": [
       "<Figure size 1080x720 with 1 Axes>"
      ]
     },
     "metadata": {
      "needs_background": "light"
     },
     "output_type": "display_data"
    }
   ],
   "source": [
    "f, ax = plt.subplots(figsize = (15, 10))\n",
    "sns.boxplot(x = \"Year\", y = \"CasesMedian\", data = malaria).set(title = 'Median Number of Deaths BoxPlot')"
   ]
  },
  {
   "cell_type": "markdown",
   "id": "b9e3a036",
   "metadata": {},
   "source": [
    "#### Analysis of outliers\n",
    "\n",
    "The box plots above highlight the spread of the median number of cases and median number of deaths per year in different countries respectively. This is to check for any outliers if there are any. The outliers from the different years are not genuine outliers which need to be removed as those are highlighting the cases within hotspots meaning that, that data is necessary for the analysis. This is further reinforced by the lack of volatility of the outliers from year to year. The same can be said for the box plots for the median number of deaths from year to year. The outliers highlight the deaths in the hotspots and there is no volatility from year to year hence there are no outliers to remove!"
   ]
  },
  {
   "cell_type": "markdown",
   "id": "20e5f0fb",
   "metadata": {},
   "source": [
    "##### Combining Data"
   ]
  },
  {
   "cell_type": "code",
   "execution_count": 14,
   "id": "f9c6bc2a",
   "metadata": {},
   "outputs": [
    {
     "data": {
      "text/html": [
       "<div>\n",
       "<style scoped>\n",
       "    .dataframe tbody tr th:only-of-type {\n",
       "        vertical-align: middle;\n",
       "    }\n",
       "\n",
       "    .dataframe tbody tr th {\n",
       "        vertical-align: top;\n",
       "    }\n",
       "\n",
       "    .dataframe thead th {\n",
       "        text-align: right;\n",
       "    }\n",
       "</style>\n",
       "<table border=\"1\" class=\"dataframe\">\n",
       "  <thead>\n",
       "    <tr style=\"text-align: right;\">\n",
       "      <th></th>\n",
       "      <th>Country</th>\n",
       "      <th>Average yearly temperature (° C)</th>\n",
       "    </tr>\n",
       "  </thead>\n",
       "  <tbody>\n",
       "    <tr>\n",
       "      <th>0</th>\n",
       "      <td>Aruba</td>\n",
       "      <td>25.35</td>\n",
       "    </tr>\n",
       "    <tr>\n",
       "      <th>1</th>\n",
       "      <td>Andorra</td>\n",
       "      <td>7.60</td>\n",
       "    </tr>\n",
       "    <tr>\n",
       "      <th>2</th>\n",
       "      <td>Afghanistan</td>\n",
       "      <td>12.60</td>\n",
       "    </tr>\n",
       "    <tr>\n",
       "      <th>3</th>\n",
       "      <td>Angola</td>\n",
       "      <td>21.55</td>\n",
       "    </tr>\n",
       "    <tr>\n",
       "      <th>4</th>\n",
       "      <td>Albania</td>\n",
       "      <td>11.40</td>\n",
       "    </tr>\n",
       "    <tr>\n",
       "      <th>...</th>\n",
       "      <td>...</td>\n",
       "      <td>...</td>\n",
       "    </tr>\n",
       "    <tr>\n",
       "      <th>206</th>\n",
       "      <td>Yemen, Rep.</td>\n",
       "      <td>23.85</td>\n",
       "    </tr>\n",
       "    <tr>\n",
       "      <th>207</th>\n",
       "      <td>South Africa</td>\n",
       "      <td>17.75</td>\n",
       "    </tr>\n",
       "    <tr>\n",
       "      <th>208</th>\n",
       "      <td>Congo, Dem. Rep.</td>\n",
       "      <td>24.00</td>\n",
       "    </tr>\n",
       "    <tr>\n",
       "      <th>209</th>\n",
       "      <td>Zambia</td>\n",
       "      <td>21.40</td>\n",
       "    </tr>\n",
       "    <tr>\n",
       "      <th>210</th>\n",
       "      <td>Zimbabwe</td>\n",
       "      <td>21.00</td>\n",
       "    </tr>\n",
       "  </tbody>\n",
       "</table>\n",
       "<p>211 rows × 2 columns</p>\n",
       "</div>"
      ],
      "text/plain": [
       "              Country  Average yearly temperature (° C)\n",
       "0               Aruba                             25.35\n",
       "1             Andorra                              7.60\n",
       "2         Afghanistan                             12.60\n",
       "3              Angola                             21.55\n",
       "4             Albania                             11.40\n",
       "..                ...                               ...\n",
       "206       Yemen, Rep.                             23.85\n",
       "207      South Africa                             17.75\n",
       "208  Congo, Dem. Rep.                             24.00\n",
       "209            Zambia                             21.40\n",
       "210          Zimbabwe                             21.00\n",
       "\n",
       "[211 rows x 2 columns]"
      ]
     },
     "execution_count": 14,
     "metadata": {},
     "output_type": "execute_result"
    }
   ],
   "source": [
    "avg_temp = avg_temp.rename(columns = {'Country name' : 'Country'})\n",
    "avg_temp"
   ]
  },
  {
   "cell_type": "code",
   "execution_count": 15,
   "id": "66fcd1b9",
   "metadata": {},
   "outputs": [
    {
     "data": {
      "text/html": [
       "<div>\n",
       "<style scoped>\n",
       "    .dataframe tbody tr th:only-of-type {\n",
       "        vertical-align: middle;\n",
       "    }\n",
       "\n",
       "    .dataframe tbody tr th {\n",
       "        vertical-align: top;\n",
       "    }\n",
       "\n",
       "    .dataframe thead th {\n",
       "        text-align: right;\n",
       "    }\n",
       "</style>\n",
       "<table border=\"1\" class=\"dataframe\">\n",
       "  <thead>\n",
       "    <tr style=\"text-align: right;\">\n",
       "      <th></th>\n",
       "      <th>Country</th>\n",
       "      <th>2011</th>\n",
       "      <th>2012</th>\n",
       "      <th>2013</th>\n",
       "      <th>2014</th>\n",
       "      <th>2015</th>\n",
       "      <th>2016</th>\n",
       "      <th>2017</th>\n",
       "    </tr>\n",
       "  </thead>\n",
       "  <tbody>\n",
       "    <tr>\n",
       "      <th>0</th>\n",
       "      <td>Afghanistan</td>\n",
       "      <td>61.553</td>\n",
       "      <td>62.054000</td>\n",
       "      <td>62.525</td>\n",
       "      <td>62.966000</td>\n",
       "      <td>63.377000</td>\n",
       "      <td>63.763000</td>\n",
       "      <td>64.13</td>\n",
       "    </tr>\n",
       "    <tr>\n",
       "      <th>1</th>\n",
       "      <td>Albania</td>\n",
       "      <td>76.914</td>\n",
       "      <td>77.252000</td>\n",
       "      <td>77.554</td>\n",
       "      <td>77.813000</td>\n",
       "      <td>78.025000</td>\n",
       "      <td>78.194000</td>\n",
       "      <td>78.333</td>\n",
       "    </tr>\n",
       "    <tr>\n",
       "      <th>2</th>\n",
       "      <td>Algeria</td>\n",
       "      <td>75.199</td>\n",
       "      <td>75.436000</td>\n",
       "      <td>75.661</td>\n",
       "      <td>75.878000</td>\n",
       "      <td>76.090000</td>\n",
       "      <td>76.298000</td>\n",
       "      <td>76.499</td>\n",
       "    </tr>\n",
       "    <tr>\n",
       "      <th>3</th>\n",
       "      <td>Angola</td>\n",
       "      <td>56.33</td>\n",
       "      <td>57.236000</td>\n",
       "      <td>58.054</td>\n",
       "      <td>58.776000</td>\n",
       "      <td>59.398000</td>\n",
       "      <td>59.925000</td>\n",
       "      <td>60.379</td>\n",
       "    </tr>\n",
       "    <tr>\n",
       "      <th>4</th>\n",
       "      <td>Antigua and Barbuda</td>\n",
       "      <td>75.956</td>\n",
       "      <td>76.087000</td>\n",
       "      <td>76.218</td>\n",
       "      <td>76.349000</td>\n",
       "      <td>76.483000</td>\n",
       "      <td>76.617000</td>\n",
       "      <td>76.752</td>\n",
       "    </tr>\n",
       "    <tr>\n",
       "      <th>...</th>\n",
       "      <td>...</td>\n",
       "      <td>...</td>\n",
       "      <td>...</td>\n",
       "      <td>...</td>\n",
       "      <td>...</td>\n",
       "      <td>...</td>\n",
       "      <td>...</td>\n",
       "      <td>...</td>\n",
       "    </tr>\n",
       "    <tr>\n",
       "      <th>196</th>\n",
       "      <td>Virgin Islands (U.S.)</td>\n",
       "      <td>78.317073</td>\n",
       "      <td>78.517073</td>\n",
       "      <td>78.717073</td>\n",
       "      <td>78.868293</td>\n",
       "      <td>79.017073</td>\n",
       "      <td>79.168293</td>\n",
       "      <td>79.368293</td>\n",
       "    </tr>\n",
       "    <tr>\n",
       "      <th>197</th>\n",
       "      <td>West Bank and Gaza</td>\n",
       "      <td>72.915</td>\n",
       "      <td>73.041000</td>\n",
       "      <td>73.17</td>\n",
       "      <td>73.303000</td>\n",
       "      <td>73.442000</td>\n",
       "      <td>73.589000</td>\n",
       "      <td>73.74</td>\n",
       "    </tr>\n",
       "    <tr>\n",
       "      <th>198</th>\n",
       "      <td>Yemen, Rep.</td>\n",
       "      <td>65.768</td>\n",
       "      <td>65.920000</td>\n",
       "      <td>66.016</td>\n",
       "      <td>66.066000</td>\n",
       "      <td>66.085000</td>\n",
       "      <td>66.087000</td>\n",
       "      <td>66.086</td>\n",
       "    </tr>\n",
       "    <tr>\n",
       "      <th>199</th>\n",
       "      <td>Zambia</td>\n",
       "      <td>57.126</td>\n",
       "      <td>58.502000</td>\n",
       "      <td>59.746</td>\n",
       "      <td>60.831000</td>\n",
       "      <td>61.737000</td>\n",
       "      <td>62.464000</td>\n",
       "      <td>63.043</td>\n",
       "    </tr>\n",
       "    <tr>\n",
       "      <th>200</th>\n",
       "      <td>Zimbabwe</td>\n",
       "      <td>52.896</td>\n",
       "      <td>55.032000</td>\n",
       "      <td>56.897</td>\n",
       "      <td>58.410000</td>\n",
       "      <td>59.534000</td>\n",
       "      <td>60.294000</td>\n",
       "      <td>60.812</td>\n",
       "    </tr>\n",
       "  </tbody>\n",
       "</table>\n",
       "<p>201 rows × 8 columns</p>\n",
       "</div>"
      ],
      "text/plain": [
       "                   Country       2011       2012       2013       2014  \\\n",
       "0              Afghanistan     61.553  62.054000     62.525  62.966000   \n",
       "1                  Albania     76.914  77.252000     77.554  77.813000   \n",
       "2                  Algeria     75.199  75.436000     75.661  75.878000   \n",
       "3                   Angola      56.33  57.236000     58.054  58.776000   \n",
       "4      Antigua and Barbuda     75.956  76.087000     76.218  76.349000   \n",
       "..                     ...        ...        ...        ...        ...   \n",
       "196  Virgin Islands (U.S.)  78.317073  78.517073  78.717073  78.868293   \n",
       "197     West Bank and Gaza     72.915  73.041000      73.17  73.303000   \n",
       "198            Yemen, Rep.     65.768  65.920000     66.016  66.066000   \n",
       "199                 Zambia     57.126  58.502000     59.746  60.831000   \n",
       "200               Zimbabwe     52.896  55.032000     56.897  58.410000   \n",
       "\n",
       "          2015       2016       2017  \n",
       "0    63.377000  63.763000      64.13  \n",
       "1    78.025000  78.194000     78.333  \n",
       "2    76.090000  76.298000     76.499  \n",
       "3    59.398000  59.925000     60.379  \n",
       "4    76.483000  76.617000     76.752  \n",
       "..         ...        ...        ...  \n",
       "196  79.017073  79.168293  79.368293  \n",
       "197  73.442000  73.589000      73.74  \n",
       "198  66.085000  66.087000     66.086  \n",
       "199  61.737000  62.464000     63.043  \n",
       "200  59.534000  60.294000     60.812  \n",
       "\n",
       "[201 rows x 8 columns]"
      ]
     },
     "execution_count": 15,
     "metadata": {},
     "output_type": "execute_result"
    }
   ],
   "source": [
    "Life_Expect = Life_Expect.rename(columns = {'Country Name' : 'Country'})\n",
    "Life_Expect"
   ]
  },
  {
   "cell_type": "code",
   "execution_count": 16,
   "id": "9d58ea94",
   "metadata": {},
   "outputs": [
    {
     "data": {
      "text/html": [
       "<div>\n",
       "<style scoped>\n",
       "    .dataframe tbody tr th:only-of-type {\n",
       "        vertical-align: middle;\n",
       "    }\n",
       "\n",
       "    .dataframe tbody tr th {\n",
       "        vertical-align: top;\n",
       "    }\n",
       "\n",
       "    .dataframe thead th {\n",
       "        text-align: right;\n",
       "    }\n",
       "</style>\n",
       "<table border=\"1\" class=\"dataframe\">\n",
       "  <thead>\n",
       "    <tr style=\"text-align: right;\">\n",
       "      <th></th>\n",
       "      <th>Country</th>\n",
       "      <th>2011</th>\n",
       "    </tr>\n",
       "  </thead>\n",
       "  <tbody>\n",
       "    <tr>\n",
       "      <th>0</th>\n",
       "      <td>Afghanistan</td>\n",
       "      <td>NaN</td>\n",
       "    </tr>\n",
       "    <tr>\n",
       "      <th>1</th>\n",
       "      <td>Albania</td>\n",
       "      <td>NaN</td>\n",
       "    </tr>\n",
       "    <tr>\n",
       "      <th>2</th>\n",
       "      <td>Algeria</td>\n",
       "      <td>NaN</td>\n",
       "    </tr>\n",
       "    <tr>\n",
       "      <th>3</th>\n",
       "      <td>Angola</td>\n",
       "      <td>NaN</td>\n",
       "    </tr>\n",
       "    <tr>\n",
       "      <th>4</th>\n",
       "      <td>Antigua and Barbuda</td>\n",
       "      <td>NaN</td>\n",
       "    </tr>\n",
       "    <tr>\n",
       "      <th>...</th>\n",
       "      <td>...</td>\n",
       "      <td>...</td>\n",
       "    </tr>\n",
       "    <tr>\n",
       "      <th>196</th>\n",
       "      <td>Virgin Islands (U.S.)</td>\n",
       "      <td>NaN</td>\n",
       "    </tr>\n",
       "    <tr>\n",
       "      <th>197</th>\n",
       "      <td>West Bank and Gaza</td>\n",
       "      <td>NaN</td>\n",
       "    </tr>\n",
       "    <tr>\n",
       "      <th>198</th>\n",
       "      <td>Yemen, Rep.</td>\n",
       "      <td>NaN</td>\n",
       "    </tr>\n",
       "    <tr>\n",
       "      <th>199</th>\n",
       "      <td>Zambia</td>\n",
       "      <td>NaN</td>\n",
       "    </tr>\n",
       "    <tr>\n",
       "      <th>200</th>\n",
       "      <td>Zimbabwe</td>\n",
       "      <td>NaN</td>\n",
       "    </tr>\n",
       "  </tbody>\n",
       "</table>\n",
       "<p>201 rows × 2 columns</p>\n",
       "</div>"
      ],
      "text/plain": [
       "                   Country  2011\n",
       "0              Afghanistan   NaN\n",
       "1                  Albania   NaN\n",
       "2                  Algeria   NaN\n",
       "3                   Angola   NaN\n",
       "4      Antigua and Barbuda   NaN\n",
       "..                     ...   ...\n",
       "196  Virgin Islands (U.S.)   NaN\n",
       "197     West Bank and Gaza   NaN\n",
       "198            Yemen, Rep.   NaN\n",
       "199                 Zambia   NaN\n",
       "200               Zimbabwe   NaN\n",
       "\n",
       "[201 rows x 2 columns]"
      ]
     },
     "execution_count": 16,
     "metadata": {},
     "output_type": "execute_result"
    }
   ],
   "source": [
    "#this code needs fixing\n",
    "\n",
    "#Life_Expect_2011 = Life_Expect[[\"Country\", \"2011\"]]\n",
    "#Life_Expect_2012 = Life_Expect[[\"Country\", \"2012\"]]\n",
    "#Life_Expect_2013 = Life_Expect[[\"Country\", \"2013\"]]\n",
    "#Life_Expect_2014 = Life_Expect[[\"Country\", \"2014\"]]\n",
    "#Life_Expect_2015 = Life_Expect[[\"Country\", \"2015\"]]\n",
    "#Life_Expect_2016 = Life_Expect[[\"Country\", \"2016\"]]\n",
    "#Life_Expect_2017 = Life_Expect[[\"Country\", \"2017\"]]"
   ]
  },
  {
   "cell_type": "code",
   "execution_count": 17,
   "id": "7357dd23",
   "metadata": {},
   "outputs": [
    {
     "data": {
      "text/html": [
       "<div>\n",
       "<style scoped>\n",
       "    .dataframe tbody tr th:only-of-type {\n",
       "        vertical-align: middle;\n",
       "    }\n",
       "\n",
       "    .dataframe tbody tr th {\n",
       "        vertical-align: top;\n",
       "    }\n",
       "\n",
       "    .dataframe thead th {\n",
       "        text-align: right;\n",
       "    }\n",
       "</style>\n",
       "<table border=\"1\" class=\"dataframe\">\n",
       "  <thead>\n",
       "    <tr style=\"text-align: right;\">\n",
       "      <th></th>\n",
       "      <th>Country</th>\n",
       "      <th>2011</th>\n",
       "      <th>2012</th>\n",
       "      <th>2013</th>\n",
       "      <th>2014</th>\n",
       "      <th>2015</th>\n",
       "      <th>2016</th>\n",
       "      <th>2017</th>\n",
       "    </tr>\n",
       "  </thead>\n",
       "  <tbody>\n",
       "    <tr>\n",
       "      <th>0</th>\n",
       "      <td>Aruba</td>\n",
       "      <td>24985.013920</td>\n",
       "      <td>24712.493260</td>\n",
       "      <td>26441.619940</td>\n",
       "      <td>26893.011510</td>\n",
       "      <td>28396.908420</td>\n",
       "      <td>28452.170610</td>\n",
       "      <td>29350.805020</td>\n",
       "    </tr>\n",
       "    <tr>\n",
       "      <th>1</th>\n",
       "      <td>Africa Eastern and Southern</td>\n",
       "      <td>1686.695763</td>\n",
       "      <td>1672.363658</td>\n",
       "      <td>1653.188436</td>\n",
       "      <td>1658.650062</td>\n",
       "      <td>1507.800256</td>\n",
       "      <td>1404.953164</td>\n",
       "      <td>1540.232473</td>\n",
       "    </tr>\n",
       "    <tr>\n",
       "      <th>2</th>\n",
       "      <td>Afghanistan</td>\n",
       "      <td>591.162798</td>\n",
       "      <td>641.871438</td>\n",
       "      <td>637.165464</td>\n",
       "      <td>613.856505</td>\n",
       "      <td>578.466353</td>\n",
       "      <td>509.220101</td>\n",
       "      <td>519.888913</td>\n",
       "    </tr>\n",
       "    <tr>\n",
       "      <th>3</th>\n",
       "      <td>Africa Western and Central</td>\n",
       "      <td>1827.518347</td>\n",
       "      <td>1936.390962</td>\n",
       "      <td>2123.392433</td>\n",
       "      <td>2166.743309</td>\n",
       "      <td>1886.248158</td>\n",
       "      <td>1666.422406</td>\n",
       "      <td>1606.978332</td>\n",
       "    </tr>\n",
       "    <tr>\n",
       "      <th>4</th>\n",
       "      <td>Angola</td>\n",
       "      <td>4615.468219</td>\n",
       "      <td>5100.097027</td>\n",
       "      <td>5254.881126</td>\n",
       "      <td>5408.411700</td>\n",
       "      <td>4166.979833</td>\n",
       "      <td>3506.073128</td>\n",
       "      <td>4095.810057</td>\n",
       "    </tr>\n",
       "    <tr>\n",
       "      <th>...</th>\n",
       "      <td>...</td>\n",
       "      <td>...</td>\n",
       "      <td>...</td>\n",
       "      <td>...</td>\n",
       "      <td>...</td>\n",
       "      <td>...</td>\n",
       "      <td>...</td>\n",
       "      <td>...</td>\n",
       "    </tr>\n",
       "    <tr>\n",
       "      <th>263</th>\n",
       "      <td>South Africa</td>\n",
       "      <td>8007.476439</td>\n",
       "      <td>7501.661096</td>\n",
       "      <td>6832.725546</td>\n",
       "      <td>6433.400402</td>\n",
       "      <td>5734.633422</td>\n",
       "      <td>5272.543648</td>\n",
       "      <td>6131.479450</td>\n",
       "    </tr>\n",
       "    <tr>\n",
       "      <th>264</th>\n",
       "      <td>Zambia</td>\n",
       "      <td>1672.907535</td>\n",
       "      <td>1763.069442</td>\n",
       "      <td>1878.346811</td>\n",
       "      <td>1762.427817</td>\n",
       "      <td>1338.290927</td>\n",
       "      <td>1280.806543</td>\n",
       "      <td>1535.196574</td>\n",
       "    </tr>\n",
       "    <tr>\n",
       "      <th>265</th>\n",
       "      <td>Zimbabwe</td>\n",
       "      <td>1093.653409</td>\n",
       "      <td>1304.968011</td>\n",
       "      <td>1429.998461</td>\n",
       "      <td>1434.896277</td>\n",
       "      <td>1445.069702</td>\n",
       "      <td>1464.588957</td>\n",
       "      <td>1335.665064</td>\n",
       "    </tr>\n",
       "    <tr>\n",
       "      <th>193</th>\n",
       "      <td>Democratic People's Republic of Korea</td>\n",
       "      <td>NaN</td>\n",
       "      <td>NaN</td>\n",
       "      <td>NaN</td>\n",
       "      <td>NaN</td>\n",
       "      <td>NaN</td>\n",
       "      <td>NaN</td>\n",
       "      <td>NaN</td>\n",
       "    </tr>\n",
       "    <tr>\n",
       "      <th>254</th>\n",
       "      <td>Venezuela (Bolivarian Republic of)</td>\n",
       "      <td>NaN</td>\n",
       "      <td>NaN</td>\n",
       "      <td>NaN</td>\n",
       "      <td>NaN</td>\n",
       "      <td>NaN</td>\n",
       "      <td>NaN</td>\n",
       "      <td>NaN</td>\n",
       "    </tr>\n",
       "  </tbody>\n",
       "</table>\n",
       "<p>255 rows × 8 columns</p>\n",
       "</div>"
      ],
      "text/plain": [
       "                                   Country          2011          2012  \\\n",
       "0                                    Aruba  24985.013920  24712.493260   \n",
       "1              Africa Eastern and Southern   1686.695763   1672.363658   \n",
       "2                              Afghanistan    591.162798    641.871438   \n",
       "3               Africa Western and Central   1827.518347   1936.390962   \n",
       "4                                   Angola   4615.468219   5100.097027   \n",
       "..                                     ...           ...           ...   \n",
       "263                           South Africa   8007.476439   7501.661096   \n",
       "264                                 Zambia   1672.907535   1763.069442   \n",
       "265                               Zimbabwe   1093.653409   1304.968011   \n",
       "193  Democratic People's Republic of Korea           NaN           NaN   \n",
       "254     Venezuela (Bolivarian Republic of)           NaN           NaN   \n",
       "\n",
       "             2013          2014          2015          2016          2017  \n",
       "0    26441.619940  26893.011510  28396.908420  28452.170610  29350.805020  \n",
       "1     1653.188436   1658.650062   1507.800256   1404.953164   1540.232473  \n",
       "2      637.165464    613.856505    578.466353    509.220101    519.888913  \n",
       "3     2123.392433   2166.743309   1886.248158   1666.422406   1606.978332  \n",
       "4     5254.881126   5408.411700   4166.979833   3506.073128   4095.810057  \n",
       "..            ...           ...           ...           ...           ...  \n",
       "263   6832.725546   6433.400402   5734.633422   5272.543648   6131.479450  \n",
       "264   1878.346811   1762.427817   1338.290927   1280.806543   1535.196574  \n",
       "265   1429.998461   1434.896277   1445.069702   1464.588957   1335.665064  \n",
       "193           NaN           NaN           NaN           NaN           NaN  \n",
       "254           NaN           NaN           NaN           NaN           NaN  \n",
       "\n",
       "[255 rows x 8 columns]"
      ]
     },
     "execution_count": 17,
     "metadata": {},
     "output_type": "execute_result"
    }
   ],
   "source": [
    "GDP = GDP.rename(columns={'Country Name' : 'Country'})\n",
    "GDP"
   ]
  },
  {
   "cell_type": "code",
   "execution_count": 18,
   "id": "fc563b2e",
   "metadata": {},
   "outputs": [],
   "source": [
    "GDP_2011 = GDP[[\"Country\", \"2011\"]]\n",
    "GDP_2012 = GDP[[\"Country\", \"2012\"]]\n",
    "GDP_2013 = GDP[[\"Country\", \"2013\"]]\n",
    "GDP_2014 = GDP[[\"Country\", \"2014\"]]\n",
    "GDP_2015 = GDP[[\"Country\", \"2015\"]]\n",
    "GDP_2016 = GDP[[\"Country\", \"2016\"]]\n",
    "GDP_2017 = GDP[[\"Country\", \"2017\"]]"
   ]
  },
  {
   "cell_type": "code",
   "execution_count": 19,
   "id": "25af800d",
   "metadata": {},
   "outputs": [],
   "source": [
    "new_malaria = malaria.drop(columns=['Cases', 'Deaths', 'CasesMin', 'CasesMax', 'DeathsMin', 'DeathsMax'])"
   ]
  },
  {
   "cell_type": "code",
   "execution_count": 20,
   "id": "028a9265",
   "metadata": {},
   "outputs": [
    {
     "data": {
      "text/html": [
       "<div>\n",
       "<style scoped>\n",
       "    .dataframe tbody tr th:only-of-type {\n",
       "        vertical-align: middle;\n",
       "    }\n",
       "\n",
       "    .dataframe tbody tr th {\n",
       "        vertical-align: top;\n",
       "    }\n",
       "\n",
       "    .dataframe thead th {\n",
       "        text-align: right;\n",
       "    }\n",
       "</style>\n",
       "<table border=\"1\" class=\"dataframe\">\n",
       "  <thead>\n",
       "    <tr style=\"text-align: right;\">\n",
       "      <th></th>\n",
       "      <th>Country</th>\n",
       "      <th>Year</th>\n",
       "      <th>CasesMedian</th>\n",
       "      <th>DeathsMedian</th>\n",
       "      <th>WHORegion</th>\n",
       "    </tr>\n",
       "  </thead>\n",
       "  <tbody>\n",
       "    <tr>\n",
       "      <th>0</th>\n",
       "      <td>Afghanistan</td>\n",
       "      <td>2017</td>\n",
       "      <td>630308</td>\n",
       "      <td>298</td>\n",
       "      <td>Eastern Mediterranean</td>\n",
       "    </tr>\n",
       "    <tr>\n",
       "      <th>2</th>\n",
       "      <td>Angola</td>\n",
       "      <td>2017</td>\n",
       "      <td>4615605</td>\n",
       "      <td>13316</td>\n",
       "      <td>Africa</td>\n",
       "    </tr>\n",
       "    <tr>\n",
       "      <th>6</th>\n",
       "      <td>Bangladesh</td>\n",
       "      <td>2017</td>\n",
       "      <td>32924</td>\n",
       "      <td>76</td>\n",
       "      <td>South-East Asia</td>\n",
       "    </tr>\n",
       "    <tr>\n",
       "      <th>8</th>\n",
       "      <td>Benin</td>\n",
       "      <td>2017</td>\n",
       "      <td>4111699</td>\n",
       "      <td>7328</td>\n",
       "      <td>Africa</td>\n",
       "    </tr>\n",
       "    <tr>\n",
       "      <th>10</th>\n",
       "      <td>Bolivia (Plurinational State of)</td>\n",
       "      <td>2017</td>\n",
       "      <td>6512</td>\n",
       "      <td>2</td>\n",
       "      <td>Americas</td>\n",
       "    </tr>\n",
       "  </tbody>\n",
       "</table>\n",
       "</div>"
      ],
      "text/plain": [
       "                             Country  Year  CasesMedian  DeathsMedian  \\\n",
       "0                        Afghanistan  2017       630308           298   \n",
       "2                             Angola  2017      4615605         13316   \n",
       "6                         Bangladesh  2017        32924            76   \n",
       "8                              Benin  2017      4111699          7328   \n",
       "10  Bolivia (Plurinational State of)  2017         6512             2   \n",
       "\n",
       "                WHORegion  \n",
       "0   Eastern Mediterranean  \n",
       "2                  Africa  \n",
       "6         South-East Asia  \n",
       "8                  Africa  \n",
       "10               Americas  "
      ]
     },
     "execution_count": 20,
     "metadata": {},
     "output_type": "execute_result"
    }
   ],
   "source": [
    "new_malaria.head()"
   ]
  },
  {
   "cell_type": "code",
   "execution_count": 21,
   "id": "57669330",
   "metadata": {},
   "outputs": [],
   "source": [
    "M2010 = new_malaria[new_malaria[\"Year\"] == 2010]\n",
    "M2011 = new_malaria[new_malaria[\"Year\"] == 2011]\n",
    "M2012 = new_malaria[new_malaria[\"Year\"] == 2012]\n",
    "M2013 = new_malaria[new_malaria[\"Year\"] == 2013]\n",
    "M2014 = new_malaria[new_malaria[\"Year\"] == 2014]\n",
    "M2015 = new_malaria[new_malaria[\"Year\"] == 2015]\n",
    "M2016 = new_malaria[new_malaria[\"Year\"] == 2016]\n",
    "M2017 = new_malaria[new_malaria[\"Year\"] == 2017]"
   ]
  },
  {
   "cell_type": "code",
   "execution_count": 22,
   "id": "7388782e",
   "metadata": {},
   "outputs": [],
   "source": [
    "new_malaria = M2010"
   ]
  },
  {
   "cell_type": "code",
   "execution_count": 23,
   "id": "ccb66fb5",
   "metadata": {},
   "outputs": [
    {
     "data": {
      "text/html": [
       "<div>\n",
       "<style scoped>\n",
       "    .dataframe tbody tr th:only-of-type {\n",
       "        vertical-align: middle;\n",
       "    }\n",
       "\n",
       "    .dataframe tbody tr th {\n",
       "        vertical-align: top;\n",
       "    }\n",
       "\n",
       "    .dataframe thead th {\n",
       "        text-align: right;\n",
       "    }\n",
       "</style>\n",
       "<table border=\"1\" class=\"dataframe\">\n",
       "  <thead>\n",
       "    <tr style=\"text-align: right;\">\n",
       "      <th></th>\n",
       "      <th>Country</th>\n",
       "      <th>Year</th>\n",
       "      <th>CasesMedian</th>\n",
       "      <th>DeathsMedian</th>\n",
       "      <th>WHORegion</th>\n",
       "    </tr>\n",
       "  </thead>\n",
       "  <tbody>\n",
       "    <tr>\n",
       "      <th>749</th>\n",
       "      <td>Afghanistan</td>\n",
       "      <td>2010</td>\n",
       "      <td>353343</td>\n",
       "      <td>200</td>\n",
       "      <td>Eastern Mediterranean</td>\n",
       "    </tr>\n",
       "    <tr>\n",
       "      <th>751</th>\n",
       "      <td>Angola</td>\n",
       "      <td>2010</td>\n",
       "      <td>3125901</td>\n",
       "      <td>13351</td>\n",
       "      <td>Africa</td>\n",
       "    </tr>\n",
       "    <tr>\n",
       "      <th>755</th>\n",
       "      <td>Bangladesh</td>\n",
       "      <td>2010</td>\n",
       "      <td>113895</td>\n",
       "      <td>274</td>\n",
       "      <td>South-East Asia</td>\n",
       "    </tr>\n",
       "    <tr>\n",
       "      <th>757</th>\n",
       "      <td>Benin</td>\n",
       "      <td>2010</td>\n",
       "      <td>3713395</td>\n",
       "      <td>8273</td>\n",
       "      <td>Africa</td>\n",
       "    </tr>\n",
       "    <tr>\n",
       "      <th>759</th>\n",
       "      <td>Bolivia (Plurinational State of)</td>\n",
       "      <td>2010</td>\n",
       "      <td>19614</td>\n",
       "      <td>11</td>\n",
       "      <td>Americas</td>\n",
       "    </tr>\n",
       "  </tbody>\n",
       "</table>\n",
       "</div>"
      ],
      "text/plain": [
       "                              Country  Year  CasesMedian  DeathsMedian  \\\n",
       "749                       Afghanistan  2010       353343           200   \n",
       "751                            Angola  2010      3125901         13351   \n",
       "755                        Bangladesh  2010       113895           274   \n",
       "757                             Benin  2010      3713395          8273   \n",
       "759  Bolivia (Plurinational State of)  2010        19614            11   \n",
       "\n",
       "                 WHORegion  \n",
       "749  Eastern Mediterranean  \n",
       "751                 Africa  \n",
       "755        South-East Asia  \n",
       "757                 Africa  \n",
       "759               Americas  "
      ]
     },
     "execution_count": 23,
     "metadata": {},
     "output_type": "execute_result"
    }
   ],
   "source": [
    "new_malaria.head()"
   ]
  },
  {
   "cell_type": "code",
   "execution_count": 24,
   "id": "d88c9052",
   "metadata": {},
   "outputs": [],
   "source": [
    "# M2010 = M2010.drop(columns=['Year', 'WHORegion'])\n",
    "M2011 = M2011.drop(columns=['Year', 'WHORegion'])\n",
    "M2012 = M2012.drop(columns=['Year', 'WHORegion'])\n",
    "M2013 = M2013.drop(columns=['Year', 'WHORegion'])\n",
    "M2014 = M2014.drop(columns=['Year', 'WHORegion'])\n",
    "M2015 = M2015.drop(columns=['Year', 'WHORegion'])\n",
    "M2016 = M2016.drop(columns=['Year', 'WHORegion'])\n",
    "M2017 = M2017.drop(columns=['Year', 'WHORegion'])"
   ]
  },
  {
   "cell_type": "code",
   "execution_count": 25,
   "id": "4c6b0019",
   "metadata": {},
   "outputs": [],
   "source": [
    "new_malaria = new_malaria.drop(columns=['Year', 'CasesMedian', 'DeathsMedian'])"
   ]
  },
  {
   "cell_type": "code",
   "execution_count": 26,
   "id": "a2743b33",
   "metadata": {},
   "outputs": [],
   "source": [
    "new_malaria = pd.merge(new_malaria, avg_temp, on='Country')\n",
    "new_malaria = pd.merge(new_malaria, M2011, on='Country')\n",
    "new_malaria = pd.merge(new_malaria, Life_Expect_2011, on='Country')\n",
    "new_malaria = new_malaria.rename(columns = {'CasesMedian' : 'MedianCases_2011', 'DeathsMedian' : 'MedianDeaths_2011', '2011' : 'Life_Expectancy_2011'})\n",
    "new_malaria = pd.merge(new_malaria, GDP_2011, on='Country')\n",
    "new_malaria = new_malaria.rename(columns={'2011' : 'GDP_2011'})"
   ]
  },
  {
   "cell_type": "code",
   "execution_count": 27,
   "id": "aa80f692",
   "metadata": {},
   "outputs": [
    {
     "ename": "NameError",
     "evalue": "name 'Life_Expect_2012' is not defined",
     "output_type": "error",
     "traceback": [
      "\u001b[1;31m---------------------------------------------------------------------------\u001b[0m",
      "\u001b[1;31mNameError\u001b[0m                                 Traceback (most recent call last)",
      "\u001b[1;32m<ipython-input-27-9fa02d7c6f52>\u001b[0m in \u001b[0;36m<module>\u001b[1;34m\u001b[0m\n\u001b[0;32m      1\u001b[0m \u001b[0mnew_malaria\u001b[0m \u001b[1;33m=\u001b[0m \u001b[0mpd\u001b[0m\u001b[1;33m.\u001b[0m\u001b[0mmerge\u001b[0m\u001b[1;33m(\u001b[0m\u001b[0mnew_malaria\u001b[0m\u001b[1;33m,\u001b[0m \u001b[0mM2012\u001b[0m\u001b[1;33m,\u001b[0m \u001b[0mon\u001b[0m\u001b[1;33m=\u001b[0m\u001b[1;34m'Country'\u001b[0m\u001b[1;33m)\u001b[0m\u001b[1;33m\u001b[0m\u001b[1;33m\u001b[0m\u001b[0m\n\u001b[1;32m----> 2\u001b[1;33m \u001b[0mnew_malaria\u001b[0m \u001b[1;33m=\u001b[0m \u001b[0mpd\u001b[0m\u001b[1;33m.\u001b[0m\u001b[0mmerge\u001b[0m\u001b[1;33m(\u001b[0m\u001b[0mnew_malaria\u001b[0m\u001b[1;33m,\u001b[0m \u001b[0mLife_Expect_2012\u001b[0m\u001b[1;33m,\u001b[0m \u001b[0mon\u001b[0m\u001b[1;33m=\u001b[0m\u001b[1;34m'Country'\u001b[0m\u001b[1;33m)\u001b[0m\u001b[1;33m\u001b[0m\u001b[1;33m\u001b[0m\u001b[0m\n\u001b[0m\u001b[0;32m      3\u001b[0m \u001b[0mnew_malaria\u001b[0m \u001b[1;33m=\u001b[0m \u001b[0mnew_malaria\u001b[0m\u001b[1;33m.\u001b[0m\u001b[0mrename\u001b[0m\u001b[1;33m(\u001b[0m\u001b[0mcolumns\u001b[0m \u001b[1;33m=\u001b[0m \u001b[1;33m{\u001b[0m\u001b[1;34m'CasesMedian'\u001b[0m \u001b[1;33m:\u001b[0m \u001b[1;34m'MedianCases_2012'\u001b[0m\u001b[1;33m,\u001b[0m \u001b[1;34m'DeathsMedian'\u001b[0m \u001b[1;33m:\u001b[0m \u001b[1;34m'MedianDeaths_2012'\u001b[0m\u001b[1;33m,\u001b[0m \u001b[1;34m'2012'\u001b[0m \u001b[1;33m:\u001b[0m \u001b[1;34m'Life_Expectancy_2012'\u001b[0m\u001b[1;33m}\u001b[0m\u001b[1;33m)\u001b[0m\u001b[1;33m\u001b[0m\u001b[1;33m\u001b[0m\u001b[0m\n\u001b[0;32m      4\u001b[0m \u001b[0mnew_malaria\u001b[0m \u001b[1;33m=\u001b[0m \u001b[0mpd\u001b[0m\u001b[1;33m.\u001b[0m\u001b[0mmerge\u001b[0m\u001b[1;33m(\u001b[0m\u001b[0mnew_malaria\u001b[0m\u001b[1;33m,\u001b[0m \u001b[0mGDP_2012\u001b[0m\u001b[1;33m,\u001b[0m \u001b[0mon\u001b[0m\u001b[1;33m=\u001b[0m\u001b[1;34m'Country'\u001b[0m\u001b[1;33m)\u001b[0m\u001b[1;33m\u001b[0m\u001b[1;33m\u001b[0m\u001b[0m\n\u001b[0;32m      5\u001b[0m \u001b[0mnew_malaria\u001b[0m \u001b[1;33m=\u001b[0m \u001b[0mnew_malaria\u001b[0m\u001b[1;33m.\u001b[0m\u001b[0mrename\u001b[0m\u001b[1;33m(\u001b[0m\u001b[0mcolumns\u001b[0m\u001b[1;33m=\u001b[0m\u001b[1;33m{\u001b[0m\u001b[1;34m'2012'\u001b[0m \u001b[1;33m:\u001b[0m \u001b[1;34m'GDP_2012'\u001b[0m\u001b[1;33m}\u001b[0m\u001b[1;33m)\u001b[0m\u001b[1;33m\u001b[0m\u001b[1;33m\u001b[0m\u001b[0m\n",
      "\u001b[1;31mNameError\u001b[0m: name 'Life_Expect_2012' is not defined"
     ]
    }
   ],
   "source": [
    "new_malaria = pd.merge(new_malaria, M2012, on='Country')\n",
    "new_malaria = pd.merge(new_malaria, Life_Expect_2012, on='Country')\n",
    "new_malaria = new_malaria.rename(columns = {'CasesMedian' : 'MedianCases_2012', 'DeathsMedian' : 'MedianDeaths_2012', '2012' : 'Life_Expectancy_2012'})\n",
    "new_malaria = pd.merge(new_malaria, GDP_2012, on='Country')\n",
    "new_malaria = new_malaria.rename(columns={'2012' : 'GDP_2012'})"
   ]
  },
  {
   "cell_type": "code",
   "execution_count": null,
   "id": "176e27c7",
   "metadata": {},
   "outputs": [],
   "source": [
    "new_malaria = pd.merge(new_malaria, M2013, on='Country')\n",
    "new_malaria = pd.merge(new_malaria, Life_Expect_2013, on='Country')\n",
    "new_malaria = new_malaria.rename(columns = {'CasesMedian' : 'MedianCases_2013', 'DeathsMedian' : 'MedianDeaths_2013', '2013' : 'Life_Expectancy_2013'})\n",
    "new_malaria = pd.merge(new_malaria, GDP_2013, on='Country')\n",
    "new_malaria = new_malaria.rename(columns={'2013' : 'GDP_2013'})"
   ]
  },
  {
   "cell_type": "code",
   "execution_count": null,
   "id": "834d40f0",
   "metadata": {},
   "outputs": [],
   "source": [
    "new_malaria = pd.merge(new_malaria, M2014, on='Country')\n",
    "new_malaria = pd.merge(new_malaria, Life_Expect_2014, on='Country')\n",
    "new_malaria = new_malaria.rename(columns = {'CasesMedian' : 'MedianCases_2014', 'DeathsMedian' : 'MedianDeaths_2014', '2014' : 'Life_Expectancy_2014'})\n",
    "new_malaria = pd.merge(new_malaria, GDP_2014, on='Country')\n",
    "new_malaria = new_malaria.rename(columns={'2014' : 'GDP_2014'})"
   ]
  },
  {
   "cell_type": "code",
   "execution_count": null,
   "id": "faa0d616",
   "metadata": {},
   "outputs": [],
   "source": [
    "new_malaria = pd.merge(new_malaria, M2015, on='Country')\n",
    "new_malaria = pd.merge(new_malaria, Life_Expect_2015, on='Country')\n",
    "new_malaria = new_malaria.rename(columns = {'CasesMedian' : 'MedianCases_2015', 'DeathsMedian' : 'MedianDeaths_2015', '2015' : 'Life_Expectancy_2015'})\n",
    "new_malaria = pd.merge(new_malaria, GDP_2015, on='Country')\n",
    "new_malaria = new_malaria.rename(columns={'2015' : 'GDP_2015'})"
   ]
  },
  {
   "cell_type": "code",
   "execution_count": null,
   "id": "154fabe3",
   "metadata": {},
   "outputs": [],
   "source": [
    "new_malaria = pd.merge(new_malaria, M2016, on='Country')\n",
    "new_malaria = pd.merge(new_malaria, Life_Expect_2016, on='Country')\n",
    "new_malaria = new_malaria.rename(columns = {'CasesMedian' : 'MedianCases_2016', 'DeathsMedian' : 'MedianDeaths_2016', '2016' : 'Life_Expectancy_2016'})\n",
    "new_malaria = pd.merge(new_malaria, GDP_2016, on='Country')\n",
    "new_malaria = new_malaria.rename(columns={'2016' : 'GDP_2016'})"
   ]
  },
  {
   "cell_type": "code",
   "execution_count": null,
   "id": "3442d2af",
   "metadata": {},
   "outputs": [],
   "source": [
    "new_malaria = pd.merge(new_malaria, M2017, on='Country')\n",
    "new_malaria = pd.merge(new_malaria, Life_Expect_2017, on='Country')\n",
    "new_malaria = new_malaria.rename(columns = {'CasesMedian' : 'MedianCases_2017', 'DeathsMedian' : 'MedianDeaths_2017', '2017' : 'Life_Expectancy_2017'})\n",
    "new_malaria = pd.merge(new_malaria, GDP_2017, on='Country')\n",
    "new_malaria = new_malaria.rename(columns={'2017' : 'GDP_2017'})"
   ]
  },
  {
   "cell_type": "code",
   "execution_count": null,
   "id": "a2d64d9a",
   "metadata": {},
   "outputs": [],
   "source": [
    "new_malaria"
   ]
  },
  {
   "cell_type": "markdown",
   "id": "dd79b7b3",
   "metadata": {},
   "source": [
    "#### One-hot encoding"
   ]
  },
  {
   "cell_type": "code",
   "execution_count": 36,
   "id": "4b1ba783",
   "metadata": {},
   "outputs": [
    {
     "data": {
      "text/plain": [
       "array(['Eastern Mediterranean', 'Africa', 'Americas', 'Europe',\n",
       "       'South-East Asia', 'Western Pacific'], dtype=object)"
      ]
     },
     "execution_count": 36,
     "metadata": {},
     "output_type": "execute_result"
    }
   ],
   "source": [
    "malaria['WHORegion'].unique()"
   ]
  },
  {
   "cell_type": "code",
   "execution_count": 37,
   "id": "81e68bb2",
   "metadata": {},
   "outputs": [
    {
     "data": {
      "text/html": [
       "<div>\n",
       "<style scoped>\n",
       "    .dataframe tbody tr th:only-of-type {\n",
       "        vertical-align: middle;\n",
       "    }\n",
       "\n",
       "    .dataframe tbody tr th {\n",
       "        vertical-align: top;\n",
       "    }\n",
       "\n",
       "    .dataframe thead th {\n",
       "        text-align: right;\n",
       "    }\n",
       "</style>\n",
       "<table border=\"1\" class=\"dataframe\">\n",
       "  <thead>\n",
       "    <tr style=\"text-align: right;\">\n",
       "      <th></th>\n",
       "      <th>Country</th>\n",
       "      <th>Year</th>\n",
       "      <th>Cases</th>\n",
       "      <th>Deaths</th>\n",
       "      <th>CasesMedian</th>\n",
       "      <th>CasesMin</th>\n",
       "      <th>CasesMax</th>\n",
       "      <th>DeathsMedian</th>\n",
       "      <th>DeathsMin</th>\n",
       "      <th>DeathsMax</th>\n",
       "      <th>WHORegion</th>\n",
       "      <th>WHORegion_cat</th>\n",
       "    </tr>\n",
       "  </thead>\n",
       "  <tbody>\n",
       "    <tr>\n",
       "      <th>0</th>\n",
       "      <td>Afghanistan</td>\n",
       "      <td>2017</td>\n",
       "      <td>630308[495000-801000]</td>\n",
       "      <td>298[110-510]</td>\n",
       "      <td>630308</td>\n",
       "      <td>495000.0</td>\n",
       "      <td>801000.0</td>\n",
       "      <td>298</td>\n",
       "      <td>110.0</td>\n",
       "      <td>510.0</td>\n",
       "      <td>Eastern Mediterranean</td>\n",
       "      <td>2</td>\n",
       "    </tr>\n",
       "    <tr>\n",
       "      <th>1</th>\n",
       "      <td>Algeria</td>\n",
       "      <td>2017</td>\n",
       "      <td>0</td>\n",
       "      <td>0</td>\n",
       "      <td>0</td>\n",
       "      <td>NaN</td>\n",
       "      <td>NaN</td>\n",
       "      <td>0</td>\n",
       "      <td>NaN</td>\n",
       "      <td>NaN</td>\n",
       "      <td>Africa</td>\n",
       "      <td>0</td>\n",
       "    </tr>\n",
       "    <tr>\n",
       "      <th>2</th>\n",
       "      <td>Angola</td>\n",
       "      <td>2017</td>\n",
       "      <td>4615605[3106000-6661000]</td>\n",
       "      <td>13316[9970-16600]</td>\n",
       "      <td>4615605</td>\n",
       "      <td>3106000.0</td>\n",
       "      <td>6661000.0</td>\n",
       "      <td>13316</td>\n",
       "      <td>9970.0</td>\n",
       "      <td>16600.0</td>\n",
       "      <td>Africa</td>\n",
       "      <td>0</td>\n",
       "    </tr>\n",
       "    <tr>\n",
       "      <th>3</th>\n",
       "      <td>Argentina</td>\n",
       "      <td>2017</td>\n",
       "      <td>0</td>\n",
       "      <td>0</td>\n",
       "      <td>0</td>\n",
       "      <td>NaN</td>\n",
       "      <td>NaN</td>\n",
       "      <td>0</td>\n",
       "      <td>NaN</td>\n",
       "      <td>NaN</td>\n",
       "      <td>Americas</td>\n",
       "      <td>1</td>\n",
       "    </tr>\n",
       "    <tr>\n",
       "      <th>4</th>\n",
       "      <td>Armenia</td>\n",
       "      <td>2017</td>\n",
       "      <td>0</td>\n",
       "      <td>0</td>\n",
       "      <td>0</td>\n",
       "      <td>NaN</td>\n",
       "      <td>NaN</td>\n",
       "      <td>0</td>\n",
       "      <td>NaN</td>\n",
       "      <td>NaN</td>\n",
       "      <td>Europe</td>\n",
       "      <td>3</td>\n",
       "    </tr>\n",
       "  </tbody>\n",
       "</table>\n",
       "</div>"
      ],
      "text/plain": [
       "       Country  Year                     Cases             Deaths  \\\n",
       "0  Afghanistan  2017     630308[495000-801000]       298[110-510]   \n",
       "1      Algeria  2017                         0                  0   \n",
       "2       Angola  2017  4615605[3106000-6661000]  13316[9970-16600]   \n",
       "3    Argentina  2017                         0                  0   \n",
       "4      Armenia  2017                         0                  0   \n",
       "\n",
       "   CasesMedian   CasesMin   CasesMax  DeathsMedian  DeathsMin  DeathsMax  \\\n",
       "0       630308   495000.0   801000.0           298      110.0      510.0   \n",
       "1            0        NaN        NaN             0        NaN        NaN   \n",
       "2      4615605  3106000.0  6661000.0         13316     9970.0    16600.0   \n",
       "3            0        NaN        NaN             0        NaN        NaN   \n",
       "4            0        NaN        NaN             0        NaN        NaN   \n",
       "\n",
       "               WHORegion  WHORegion_cat  \n",
       "0  Eastern Mediterranean              2  \n",
       "1                 Africa              0  \n",
       "2                 Africa              0  \n",
       "3               Americas              1  \n",
       "4                 Europe              3  "
      ]
     },
     "execution_count": 37,
     "metadata": {},
     "output_type": "execute_result"
    }
   ],
   "source": [
    "malaria['WHORegion'] = malaria['WHORegion'].astype('category')\n",
    "malaria['WHORegion_cat'] = malaria['WHORegion'].cat.codes\n",
    "malaria.head()"
   ]
  },
  {
   "cell_type": "markdown",
   "id": "4afa896c",
   "metadata": {},
   "source": [
    "# Recursive Feature Elimination (RFE)"
   ]
  },
  {
   "cell_type": "markdown",
   "id": "b1d9e8dd",
   "metadata": {},
   "source": [
    "Removing unnecessary features to make a more accurate heatmap"
   ]
  },
  {
   "cell_type": "code",
   "execution_count": 38,
   "id": "4abfafc9",
   "metadata": {},
   "outputs": [],
   "source": [
    "from sklearn.feature_selection import RFE\n",
    "from sklearn.ensemble import RandomForestClassifier"
   ]
  },
  {
   "cell_type": "code",
   "execution_count": 39,
   "id": "ecebf882",
   "metadata": {},
   "outputs": [],
   "source": [
    "X_train, X_test, y_train, y_test = train_test_split(malaria[['WHORegion_cat']], malaria.CasesMax, train_size = 0.9)"
   ]
  },
  {
   "cell_type": "code",
   "execution_count": null,
   "id": "03b6ccb6",
   "metadata": {},
   "outputs": [],
   "source": []
  },
  {
   "cell_type": "markdown",
   "id": "14cc8793",
   "metadata": {},
   "source": [
    "# Data Visualisation"
   ]
  },
  {
   "cell_type": "code",
   "execution_count": 43,
   "id": "ccd7349a",
   "metadata": {},
   "outputs": [
    {
     "data": {
      "text/html": [
       "<div>\n",
       "<style scoped>\n",
       "    .dataframe tbody tr th:only-of-type {\n",
       "        vertical-align: middle;\n",
       "    }\n",
       "\n",
       "    .dataframe tbody tr th {\n",
       "        vertical-align: top;\n",
       "    }\n",
       "\n",
       "    .dataframe thead th {\n",
       "        text-align: right;\n",
       "    }\n",
       "</style>\n",
       "<table border=\"1\" class=\"dataframe\">\n",
       "  <thead>\n",
       "    <tr style=\"text-align: right;\">\n",
       "      <th></th>\n",
       "      <th>Country</th>\n",
       "      <th>Year</th>\n",
       "      <th>Cases</th>\n",
       "      <th>Deaths</th>\n",
       "      <th>CasesMedian</th>\n",
       "      <th>CasesMin</th>\n",
       "      <th>CasesMax</th>\n",
       "      <th>DeathsMedian</th>\n",
       "      <th>DeathsMin</th>\n",
       "      <th>DeathsMax</th>\n",
       "      <th>WHORegion</th>\n",
       "      <th>WHORegion_cat</th>\n",
       "    </tr>\n",
       "  </thead>\n",
       "  <tbody>\n",
       "    <tr>\n",
       "      <th>1</th>\n",
       "      <td>Algeria</td>\n",
       "      <td>2017</td>\n",
       "      <td>0</td>\n",
       "      <td>0</td>\n",
       "      <td>0</td>\n",
       "      <td>NaN</td>\n",
       "      <td>NaN</td>\n",
       "      <td>0</td>\n",
       "      <td>NaN</td>\n",
       "      <td>NaN</td>\n",
       "      <td>Africa</td>\n",
       "      <td>0</td>\n",
       "    </tr>\n",
       "    <tr>\n",
       "      <th>2</th>\n",
       "      <td>Angola</td>\n",
       "      <td>2017</td>\n",
       "      <td>4615605[3106000-6661000]</td>\n",
       "      <td>13316[9970-16600]</td>\n",
       "      <td>4615605</td>\n",
       "      <td>3106000.0</td>\n",
       "      <td>6661000.0</td>\n",
       "      <td>13316</td>\n",
       "      <td>9970.0</td>\n",
       "      <td>16600.0</td>\n",
       "      <td>Africa</td>\n",
       "      <td>0</td>\n",
       "    </tr>\n",
       "    <tr>\n",
       "      <th>8</th>\n",
       "      <td>Benin</td>\n",
       "      <td>2017</td>\n",
       "      <td>4111699[2774000-6552000]</td>\n",
       "      <td>7328[5740-8920]</td>\n",
       "      <td>4111699</td>\n",
       "      <td>2774000.0</td>\n",
       "      <td>6552000.0</td>\n",
       "      <td>7328</td>\n",
       "      <td>5740.0</td>\n",
       "      <td>8920.0</td>\n",
       "      <td>Africa</td>\n",
       "      <td>0</td>\n",
       "    </tr>\n",
       "    <tr>\n",
       "      <th>11</th>\n",
       "      <td>Botswana</td>\n",
       "      <td>2017</td>\n",
       "      <td>2989[2300-4200]</td>\n",
       "      <td>7[0-20]</td>\n",
       "      <td>2989</td>\n",
       "      <td>2300.0</td>\n",
       "      <td>4200.0</td>\n",
       "      <td>7</td>\n",
       "      <td>0.0</td>\n",
       "      <td>20.0</td>\n",
       "      <td>Africa</td>\n",
       "      <td>0</td>\n",
       "    </tr>\n",
       "    <tr>\n",
       "      <th>13</th>\n",
       "      <td>Burkina Faso</td>\n",
       "      <td>2017</td>\n",
       "      <td>7907562[5645000-11330000]</td>\n",
       "      <td>27791[25100-30500]</td>\n",
       "      <td>7907562</td>\n",
       "      <td>5645000.0</td>\n",
       "      <td>11330000.0</td>\n",
       "      <td>27791</td>\n",
       "      <td>25100.0</td>\n",
       "      <td>30500.0</td>\n",
       "      <td>Africa</td>\n",
       "      <td>0</td>\n",
       "    </tr>\n",
       "  </tbody>\n",
       "</table>\n",
       "</div>"
      ],
      "text/plain": [
       "         Country  Year                      Cases              Deaths  \\\n",
       "1        Algeria  2017                          0                   0   \n",
       "2         Angola  2017   4615605[3106000-6661000]   13316[9970-16600]   \n",
       "8          Benin  2017   4111699[2774000-6552000]     7328[5740-8920]   \n",
       "11      Botswana  2017            2989[2300-4200]             7[0-20]   \n",
       "13  Burkina Faso  2017  7907562[5645000-11330000]  27791[25100-30500]   \n",
       "\n",
       "    CasesMedian   CasesMin    CasesMax  DeathsMedian  DeathsMin  DeathsMax  \\\n",
       "1             0        NaN         NaN             0        NaN        NaN   \n",
       "2       4615605  3106000.0   6661000.0         13316     9970.0    16600.0   \n",
       "8       4111699  2774000.0   6552000.0          7328     5740.0     8920.0   \n",
       "11         2989     2300.0      4200.0             7        0.0       20.0   \n",
       "13      7907562  5645000.0  11330000.0         27791    25100.0    30500.0   \n",
       "\n",
       "   WHORegion  WHORegion_cat  \n",
       "1     Africa              0  \n",
       "2     Africa              0  \n",
       "8     Africa              0  \n",
       "11    Africa              0  \n",
       "13    Africa              0  "
      ]
     },
     "execution_count": 43,
     "metadata": {},
     "output_type": "execute_result"
    }
   ],
   "source": [
    "malaria_africa = malaria[(malaria.WHORegion == \"Africa\")]\n",
    "malaria_africa.head()"
   ]
  },
  {
   "cell_type": "code",
   "execution_count": 49,
   "id": "880c02d8",
   "metadata": {},
   "outputs": [
    {
     "data": {
      "text/plain": [
       "<seaborn.axisgrid.FacetGrid at 0x11c9873a0>"
      ]
     },
     "execution_count": 49,
     "metadata": {},
     "output_type": "execute_result"
    },
    {
     "data": {
      "image/png": "[encoded data removed]",
      "text/plain": [
       "<Figure size 566.25x360 with 1 Axes>"
      ]
     },
     "metadata": {
      "needs_background": "light"
     },
     "output_type": "display_data"
    }
   ],
   "source": [
    "sns.lmplot(x = 'Year', y = 'DeathsMax', data = malaria_africa, fit_reg = False, hue = 'Country')"
   ]
  },
  {
   "cell_type": "code",
   "execution_count": 48,
   "id": "e941249e",
   "metadata": {},
   "outputs": [
    {
     "data": {
      "text/plain": [
       "<AxesSubplot:>"
      ]
     },
     "execution_count": 48,
     "metadata": {},
     "output_type": "execute_result"
    },
    {
     "data": {
      "image/png": "[encoded data removed]",
      "text/plain": [
       "<Figure size 432x288 with 2 Axes>"
      ]
     },
     "metadata": {
      "needs_background": "light"
     },
     "output_type": "display_data"
    }
   ],
   "source": [
    "sns.heatmap(malaria_africa.corr(), cmap = \"Spectral\")"
   ]
  },
  {
   "cell_type": "markdown",
   "id": "8dead268",
   "metadata": {},
   "source": [
    "#### Heatmaps"
   ]
  },
  {
   "cell_type": "code",
   "execution_count": 29,
   "id": "652d3350",
   "metadata": {},
   "outputs": [
    {
     "data": {
      "text/plain": [
       "WHORegion        CasesMax  \n",
       "Africa           12230000.0    4\n",
       "                 263000.0      2\n",
       "                 642000.0      2\n",
       "                 2834000.0     2\n",
       "                 11000000.0    2\n",
       "                              ..\n",
       "Western Pacific  2063000.0     1\n",
       "                 2154000.0     1\n",
       "                 2546000.0     1\n",
       "                 2815000.0     1\n",
       "                 2926000.0     1\n",
       "Name: CasesMax, Length: 479, dtype: int64"
      ]
     },
     "execution_count": 29,
     "metadata": {},
     "output_type": "execute_result"
    }
   ],
   "source": [
    "malaria.groupby('WHORegion').CasesMax.value_counts()"
   ]
  },
  {
   "cell_type": "code",
   "execution_count": 30,
   "id": "04d039a8",
   "metadata": {},
   "outputs": [],
   "source": [
    "casesTable = (\n",
    "malaria\n",
    " .groupby('WHORegion')\n",
    " .CasesMax.value_counts()\n",
    " .unstack()\n",
    " .fillna(0)\n",
    ")"
   ]
  },
  {
   "cell_type": "code",
   "execution_count": 31,
   "id": "83243395",
   "metadata": {},
   "outputs": [
    {
     "data": {
      "text/html": [
       "<div>\n",
       "<style scoped>\n",
       "    .dataframe tbody tr th:only-of-type {\n",
       "        vertical-align: middle;\n",
       "    }\n",
       "\n",
       "    .dataframe tbody tr th {\n",
       "        vertical-align: top;\n",
       "    }\n",
       "\n",
       "    .dataframe thead th {\n",
       "        text-align: right;\n",
       "    }\n",
       "</style>\n",
       "<table border=\"1\" class=\"dataframe\">\n",
       "  <thead>\n",
       "    <tr style=\"text-align: right;\">\n",
       "      <th></th>\n",
       "      <th>Year</th>\n",
       "      <th>CasesMedian</th>\n",
       "      <th>CasesMin</th>\n",
       "      <th>CasesMax</th>\n",
       "      <th>DeathsMedian</th>\n",
       "      <th>DeathsMin</th>\n",
       "      <th>DeathsMax</th>\n",
       "    </tr>\n",
       "  </thead>\n",
       "  <tbody>\n",
       "    <tr>\n",
       "      <th>Year</th>\n",
       "      <td>1.000000</td>\n",
       "      <td>-0.010009</td>\n",
       "      <td>-0.013099</td>\n",
       "      <td>-0.013015</td>\n",
       "      <td>-0.048129</td>\n",
       "      <td>-0.040775</td>\n",
       "      <td>-0.060133</td>\n",
       "    </tr>\n",
       "    <tr>\n",
       "      <th>CasesMedian</th>\n",
       "      <td>-0.010009</td>\n",
       "      <td>1.000000</td>\n",
       "      <td>0.996458</td>\n",
       "      <td>0.991130</td>\n",
       "      <td>0.967469</td>\n",
       "      <td>0.935876</td>\n",
       "      <td>0.957786</td>\n",
       "    </tr>\n",
       "    <tr>\n",
       "      <th>CasesMin</th>\n",
       "      <td>-0.013099</td>\n",
       "      <td>0.996458</td>\n",
       "      <td>1.000000</td>\n",
       "      <td>0.977674</td>\n",
       "      <td>0.965242</td>\n",
       "      <td>0.935296</td>\n",
       "      <td>0.945872</td>\n",
       "    </tr>\n",
       "    <tr>\n",
       "      <th>CasesMax</th>\n",
       "      <td>-0.013015</td>\n",
       "      <td>0.991130</td>\n",
       "      <td>0.977674</td>\n",
       "      <td>1.000000</td>\n",
       "      <td>0.957436</td>\n",
       "      <td>0.920103</td>\n",
       "      <td>0.969016</td>\n",
       "    </tr>\n",
       "    <tr>\n",
       "      <th>DeathsMedian</th>\n",
       "      <td>-0.048129</td>\n",
       "      <td>0.967469</td>\n",
       "      <td>0.965242</td>\n",
       "      <td>0.957436</td>\n",
       "      <td>1.000000</td>\n",
       "      <td>0.983527</td>\n",
       "      <td>0.977635</td>\n",
       "    </tr>\n",
       "    <tr>\n",
       "      <th>DeathsMin</th>\n",
       "      <td>-0.040775</td>\n",
       "      <td>0.935876</td>\n",
       "      <td>0.935296</td>\n",
       "      <td>0.920103</td>\n",
       "      <td>0.983527</td>\n",
       "      <td>1.000000</td>\n",
       "      <td>0.932202</td>\n",
       "    </tr>\n",
       "    <tr>\n",
       "      <th>DeathsMax</th>\n",
       "      <td>-0.060133</td>\n",
       "      <td>0.957786</td>\n",
       "      <td>0.945872</td>\n",
       "      <td>0.969016</td>\n",
       "      <td>0.977635</td>\n",
       "      <td>0.932202</td>\n",
       "      <td>1.000000</td>\n",
       "    </tr>\n",
       "  </tbody>\n",
       "</table>\n",
       "</div>"
      ],
      "text/plain": [
       "                  Year  CasesMedian  CasesMin  CasesMax  DeathsMedian  \\\n",
       "Year          1.000000    -0.010009 -0.013099 -0.013015     -0.048129   \n",
       "CasesMedian  -0.010009     1.000000  0.996458  0.991130      0.967469   \n",
       "CasesMin     -0.013099     0.996458  1.000000  0.977674      0.965242   \n",
       "CasesMax     -0.013015     0.991130  0.977674  1.000000      0.957436   \n",
       "DeathsMedian -0.048129     0.967469  0.965242  0.957436      1.000000   \n",
       "DeathsMin    -0.040775     0.935876  0.935296  0.920103      0.983527   \n",
       "DeathsMax    -0.060133     0.957786  0.945872  0.969016      0.977635   \n",
       "\n",
       "              DeathsMin  DeathsMax  \n",
       "Year          -0.040775  -0.060133  \n",
       "CasesMedian    0.935876   0.957786  \n",
       "CasesMin       0.935296   0.945872  \n",
       "CasesMax       0.920103   0.969016  \n",
       "DeathsMedian   0.983527   0.977635  \n",
       "DeathsMin      1.000000   0.932202  \n",
       "DeathsMax      0.932202   1.000000  "
      ]
     },
     "execution_count": 31,
     "metadata": {},
     "output_type": "execute_result"
    }
   ],
   "source": [
    "malaria.corr()"
   ]
  },
  {
   "cell_type": "code",
   "execution_count": 32,
   "id": "808337b3",
   "metadata": {},
   "outputs": [
    {
     "data": {
      "text/html": [
       "<div>\n",
       "<style scoped>\n",
       "    .dataframe tbody tr th:only-of-type {\n",
       "        vertical-align: middle;\n",
       "    }\n",
       "\n",
       "    .dataframe tbody tr th {\n",
       "        vertical-align: top;\n",
       "    }\n",
       "\n",
       "    .dataframe thead th {\n",
       "        text-align: right;\n",
       "    }\n",
       "</style>\n",
       "<table border=\"1\" class=\"dataframe\">\n",
       "  <thead>\n",
       "    <tr style=\"text-align: right;\">\n",
       "      <th>CasesMax</th>\n",
       "      <th>430.0</th>\n",
       "      <th>460.0</th>\n",
       "      <th>620.0</th>\n",
       "      <th>660.0</th>\n",
       "      <th>730.0</th>\n",
       "      <th>840.0</th>\n",
       "      <th>850.0</th>\n",
       "      <th>940.0</th>\n",
       "      <th>970.0</th>\n",
       "      <th>1000.0</th>\n",
       "      <th>...</th>\n",
       "      <th>37700000.0</th>\n",
       "      <th>38570000.0</th>\n",
       "      <th>74040000.0</th>\n",
       "      <th>74500000.0</th>\n",
       "      <th>75930000.0</th>\n",
       "      <th>81580000.0</th>\n",
       "      <th>82700000.0</th>\n",
       "      <th>83240000.0</th>\n",
       "      <th>83800000.0</th>\n",
       "      <th>84840000.0</th>\n",
       "    </tr>\n",
       "    <tr>\n",
       "      <th>WHORegion</th>\n",
       "      <th></th>\n",
       "      <th></th>\n",
       "      <th></th>\n",
       "      <th></th>\n",
       "      <th></th>\n",
       "      <th></th>\n",
       "      <th></th>\n",
       "      <th></th>\n",
       "      <th></th>\n",
       "      <th></th>\n",
       "      <th></th>\n",
       "      <th></th>\n",
       "      <th></th>\n",
       "      <th></th>\n",
       "      <th></th>\n",
       "      <th></th>\n",
       "      <th></th>\n",
       "      <th></th>\n",
       "      <th></th>\n",
       "      <th></th>\n",
       "      <th></th>\n",
       "    </tr>\n",
       "  </thead>\n",
       "  <tbody>\n",
       "    <tr>\n",
       "      <th>Africa</th>\n",
       "      <td>1.0</td>\n",
       "      <td>0.0</td>\n",
       "      <td>0.0</td>\n",
       "      <td>0.0</td>\n",
       "      <td>1.0</td>\n",
       "      <td>0.0</td>\n",
       "      <td>0.0</td>\n",
       "      <td>0.0</td>\n",
       "      <td>1.0</td>\n",
       "      <td>1.0</td>\n",
       "      <td>...</td>\n",
       "      <td>1.0</td>\n",
       "      <td>1.0</td>\n",
       "      <td>1.0</td>\n",
       "      <td>1.0</td>\n",
       "      <td>1.0</td>\n",
       "      <td>1.0</td>\n",
       "      <td>1.0</td>\n",
       "      <td>1.0</td>\n",
       "      <td>1.0</td>\n",
       "      <td>1.0</td>\n",
       "    </tr>\n",
       "    <tr>\n",
       "      <th>Americas</th>\n",
       "      <td>0.0</td>\n",
       "      <td>1.0</td>\n",
       "      <td>1.0</td>\n",
       "      <td>0.0</td>\n",
       "      <td>0.0</td>\n",
       "      <td>1.0</td>\n",
       "      <td>1.0</td>\n",
       "      <td>0.0</td>\n",
       "      <td>0.0</td>\n",
       "      <td>2.0</td>\n",
       "      <td>...</td>\n",
       "      <td>0.0</td>\n",
       "      <td>0.0</td>\n",
       "      <td>0.0</td>\n",
       "      <td>0.0</td>\n",
       "      <td>0.0</td>\n",
       "      <td>0.0</td>\n",
       "      <td>0.0</td>\n",
       "      <td>0.0</td>\n",
       "      <td>0.0</td>\n",
       "      <td>0.0</td>\n",
       "    </tr>\n",
       "    <tr>\n",
       "      <th>Eastern Mediterranean</th>\n",
       "      <td>0.0</td>\n",
       "      <td>0.0</td>\n",
       "      <td>0.0</td>\n",
       "      <td>0.0</td>\n",
       "      <td>0.0</td>\n",
       "      <td>0.0</td>\n",
       "      <td>0.0</td>\n",
       "      <td>0.0</td>\n",
       "      <td>0.0</td>\n",
       "      <td>0.0</td>\n",
       "      <td>...</td>\n",
       "      <td>0.0</td>\n",
       "      <td>0.0</td>\n",
       "      <td>0.0</td>\n",
       "      <td>0.0</td>\n",
       "      <td>0.0</td>\n",
       "      <td>0.0</td>\n",
       "      <td>0.0</td>\n",
       "      <td>0.0</td>\n",
       "      <td>0.0</td>\n",
       "      <td>0.0</td>\n",
       "    </tr>\n",
       "    <tr>\n",
       "      <th>South-East Asia</th>\n",
       "      <td>0.0</td>\n",
       "      <td>0.0</td>\n",
       "      <td>0.0</td>\n",
       "      <td>1.0</td>\n",
       "      <td>0.0</td>\n",
       "      <td>0.0</td>\n",
       "      <td>0.0</td>\n",
       "      <td>0.0</td>\n",
       "      <td>0.0</td>\n",
       "      <td>0.0</td>\n",
       "      <td>...</td>\n",
       "      <td>0.0</td>\n",
       "      <td>0.0</td>\n",
       "      <td>0.0</td>\n",
       "      <td>0.0</td>\n",
       "      <td>0.0</td>\n",
       "      <td>0.0</td>\n",
       "      <td>0.0</td>\n",
       "      <td>0.0</td>\n",
       "      <td>0.0</td>\n",
       "      <td>0.0</td>\n",
       "    </tr>\n",
       "    <tr>\n",
       "      <th>Western Pacific</th>\n",
       "      <td>0.0</td>\n",
       "      <td>0.0</td>\n",
       "      <td>0.0</td>\n",
       "      <td>0.0</td>\n",
       "      <td>0.0</td>\n",
       "      <td>0.0</td>\n",
       "      <td>0.0</td>\n",
       "      <td>1.0</td>\n",
       "      <td>0.0</td>\n",
       "      <td>0.0</td>\n",
       "      <td>...</td>\n",
       "      <td>0.0</td>\n",
       "      <td>0.0</td>\n",
       "      <td>0.0</td>\n",
       "      <td>0.0</td>\n",
       "      <td>0.0</td>\n",
       "      <td>0.0</td>\n",
       "      <td>0.0</td>\n",
       "      <td>0.0</td>\n",
       "      <td>0.0</td>\n",
       "      <td>0.0</td>\n",
       "    </tr>\n",
       "  </tbody>\n",
       "</table>\n",
       "<p>5 rows × 456 columns</p>\n",
       "</div>"
      ],
      "text/plain": [
       "CasesMax               430.0       460.0       620.0       660.0       \\\n",
       "WHORegion                                                               \n",
       "Africa                        1.0         0.0         0.0         0.0   \n",
       "Americas                      0.0         1.0         1.0         0.0   \n",
       "Eastern Mediterranean         0.0         0.0         0.0         0.0   \n",
       "South-East Asia               0.0         0.0         0.0         1.0   \n",
       "Western Pacific               0.0         0.0         0.0         0.0   \n",
       "\n",
       "CasesMax               730.0       840.0       850.0       940.0       \\\n",
       "WHORegion                                                               \n",
       "Africa                        1.0         0.0         0.0         0.0   \n",
       "Americas                      0.0         1.0         1.0         0.0   \n",
       "Eastern Mediterranean         0.0         0.0         0.0         0.0   \n",
       "South-East Asia               0.0         0.0         0.0         0.0   \n",
       "Western Pacific               0.0         0.0         0.0         1.0   \n",
       "\n",
       "CasesMax               970.0       1000.0      ...  37700000.0  38570000.0  \\\n",
       "WHORegion                                      ...                           \n",
       "Africa                        1.0         1.0  ...         1.0         1.0   \n",
       "Americas                      0.0         2.0  ...         0.0         0.0   \n",
       "Eastern Mediterranean         0.0         0.0  ...         0.0         0.0   \n",
       "South-East Asia               0.0         0.0  ...         0.0         0.0   \n",
       "Western Pacific               0.0         0.0  ...         0.0         0.0   \n",
       "\n",
       "CasesMax               74040000.0  74500000.0  75930000.0  81580000.0  \\\n",
       "WHORegion                                                               \n",
       "Africa                        1.0         1.0         1.0         1.0   \n",
       "Americas                      0.0         0.0         0.0         0.0   \n",
       "Eastern Mediterranean         0.0         0.0         0.0         0.0   \n",
       "South-East Asia               0.0         0.0         0.0         0.0   \n",
       "Western Pacific               0.0         0.0         0.0         0.0   \n",
       "\n",
       "CasesMax               82700000.0  83240000.0  83800000.0  84840000.0  \n",
       "WHORegion                                                              \n",
       "Africa                        1.0         1.0         1.0         1.0  \n",
       "Americas                      0.0         0.0         0.0         0.0  \n",
       "Eastern Mediterranean         0.0         0.0         0.0         0.0  \n",
       "South-East Asia               0.0         0.0         0.0         0.0  \n",
       "Western Pacific               0.0         0.0         0.0         0.0  \n",
       "\n",
       "[5 rows x 456 columns]"
      ]
     },
     "execution_count": 32,
     "metadata": {},
     "output_type": "execute_result"
    }
   ],
   "source": [
    "casesTable"
   ]
  },
  {
   "cell_type": "code",
   "execution_count": 33,
   "id": "5342f085",
   "metadata": {},
   "outputs": [
    {
     "data": {
      "text/plain": [
       "<AxesSubplot:xlabel='CasesMax', ylabel='WHORegion'>"
      ]
     },
     "execution_count": 33,
     "metadata": {},
     "output_type": "execute_result"
    },
    {
     "data": {
      "image/png": "[encoded data removed]",
      "text/plain": [
       "<Figure size 432x288 with 2 Axes>"
      ]
     },
     "metadata": {
      "needs_background": "light"
     },
     "output_type": "display_data"
    }
   ],
   "source": [
    "# plt.figure(figsize = (20,12))\n",
    "sns.heatmap(casesTable)"
   ]
  },
  {
   "cell_type": "markdown",
   "id": "3baa9a9b",
   "metadata": {},
   "source": [
    "Less significant features will need to be removed for a more accurate heatmap. This will be done by using RFE"
   ]
  },
  {
   "cell_type": "markdown",
   "id": "4548fc68",
   "metadata": {},
   "source": [
    "Display infections in the region"
   ]
  },
  {
   "cell_type": "code",
   "execution_count": 34,
   "id": "d505428a",
   "metadata": {},
   "outputs": [
    {
     "name": "stderr",
     "output_type": "stream",
     "text": [
      "E:\\anaconda3\\lib\\site-packages\\seaborn\\categorical.py:1296: UserWarning: 28.1% of the points cannot be placed; you may want to decrease the size of the markers or use stripplot.\n",
      "  warnings.warn(msg, UserWarning)\n",
      "E:\\anaconda3\\lib\\site-packages\\seaborn\\categorical.py:1296: UserWarning: 34.4% of the points cannot be placed; you may want to decrease the size of the markers or use stripplot.\n",
      "  warnings.warn(msg, UserWarning)\n",
      "E:\\anaconda3\\lib\\site-packages\\seaborn\\categorical.py:1296: UserWarning: 31.2% of the points cannot be placed; you may want to decrease the size of the markers or use stripplot.\n",
      "  warnings.warn(msg, UserWarning)\n",
      "E:\\anaconda3\\lib\\site-packages\\seaborn\\categorical.py:1296: UserWarning: 29.7% of the points cannot be placed; you may want to decrease the size of the markers or use stripplot.\n",
      "  warnings.warn(msg, UserWarning)\n",
      "E:\\anaconda3\\lib\\site-packages\\seaborn\\categorical.py:1296: UserWarning: 27.0% of the points cannot be placed; you may want to decrease the size of the markers or use stripplot.\n",
      "  warnings.warn(msg, UserWarning)\n",
      "E:\\anaconda3\\lib\\site-packages\\seaborn\\categorical.py:1296: UserWarning: 31.7% of the points cannot be placed; you may want to decrease the size of the markers or use stripplot.\n",
      "  warnings.warn(msg, UserWarning)\n"
     ]
    },
    {
     "data": {
      "text/plain": [
       "<matplotlib.legend.Legend at 0x1f67c724d60>"
      ]
     },
     "execution_count": 34,
     "metadata": {},
     "output_type": "execute_result"
    },
    {
     "data": {
      "image/png": "[encoded data removed]",
      "text/plain": [
       "<Figure size 720x432 with 1 Axes>"
      ]
     },
     "metadata": {
      "needs_background": "light"
     },
     "output_type": "display_data"
    }
   ],
   "source": [
    "plt.figure(figsize = (10,6))\n",
    "sns.swarmplot(x = 'Year', y = 'CasesMedian', data = malaria, hue = 'WHORegion')\n",
    "plt.legend(bbox_to_anchor= (1, 1), loc = 2)"
   ]
  },
  {
   "cell_type": "code",
   "execution_count": null,
   "id": "7525605b",
   "metadata": {},
   "outputs": [],
   "source": []
  },
  {
   "cell_type": "markdown",
   "id": "021cff93",
   "metadata": {},
   "source": [
    "# Algorithms"
   ]
  },
  {
   "cell_type": "markdown",
   "id": "6b3532ac",
   "metadata": {},
   "source": [
    "Model the severity of different factors on the prevalence of the disease."
   ]
  },
  {
   "cell_type": "markdown",
   "id": "2108f691",
   "metadata": {},
   "source": [
    "#### Covariance"
   ]
  },
  {
   "cell_type": "code",
   "execution_count": 35,
   "id": "2bba3e88",
   "metadata": {},
   "outputs": [
    {
     "data": {
      "text/plain": [
       "<seaborn.axisgrid.PairGrid at 0x1f67e002dc0>"
      ]
     },
     "execution_count": 35,
     "metadata": {},
     "output_type": "execute_result"
    },
    {
     "data": {
      "image/png": "[encoded data removed]",
      "text/plain": [
       "<Figure size 1260x1260 with 56 Axes>"
      ]
     },
     "metadata": {
      "needs_background": "light"
     },
     "output_type": "display_data"
    }
   ],
   "source": [
    "sns.pairplot(malaria.cov())"
   ]
  },
  {
   "cell_type": "markdown",
   "id": "22f22f9e",
   "metadata": {},
   "source": [
    "This matrix showcases the covariance of the malaria disease with the numbers of minimum, maximum and medians of deaths and in cases from 2013. "
   ]
  },
  {
   "cell_type": "code",
   "execution_count": 36,
   "id": "b8ee3bbb",
   "metadata": {},
   "outputs": [
    {
     "data": {
      "text/plain": [
       "<seaborn.axisgrid.PairGrid at 0x1f60144af40>"
      ]
     },
     "execution_count": 36,
     "metadata": {},
     "output_type": "execute_result"
    },
    {
     "data": {
      "image/png": "[encoded data removed]",
      "text/plain": [
       "<Figure size 1260x1260 with 56 Axes>"
      ]
     },
     "metadata": {
      "needs_background": "light"
     },
     "output_type": "display_data"
    }
   ],
   "source": [
    "sns.pairplot(GDP.cov())"
   ]
  },
  {
   "cell_type": "markdown",
   "id": "dd96ab71",
   "metadata": {},
   "source": [
    "The graphs of GDP values highlights the covariance of wealth between countries on a yearly basis. These graphs show that the spread of wealth between these countries are ever so increasing year after year based upon a plethora of factors."
   ]
  },
  {
   "cell_type": "code",
   "execution_count": 37,
   "id": "188ba4ee",
   "metadata": {},
   "outputs": [
    {
     "data": {
      "text/plain": [
       "<AxesSubplot:>"
      ]
     },
     "execution_count": 37,
     "metadata": {},
     "output_type": "execute_result"
    },
    {
     "data": {
      "image/png": "[encoded data removed]",
      "text/plain": [
       "<Figure size 432x288 with 2 Axes>"
      ]
     },
     "metadata": {
      "needs_background": "light"
     },
     "output_type": "display_data"
    }
   ],
   "source": [
    "sns.heatmap(Life_Expect.cov(), cmap = \"Greens\")\n"
   ]
  },
  {
   "cell_type": "markdown",
   "id": "b26ba2f5",
   "metadata": {},
   "source": [
    "The heatmap showcases that the covariance in life expectancy for an individual worlwide was at its peak in 2012 with an age of at least 70 years in 2012. Further, this map also indicates that the covariance in worlwide life expectancy diminishes year after year, reaching a low of 62 in developing nations."
   ]
  },
  {
   "cell_type": "code",
   "execution_count": 38,
   "id": "ac2b8de0",
   "metadata": {},
   "outputs": [
    {
     "data": {
      "text/plain": [
       "<AxesSubplot:>"
      ]
     },
     "execution_count": 38,
     "metadata": {},
     "output_type": "execute_result"
    },
    {
     "data": {
      "image/png": "[encoded data removed]",
      "text/plain": [
       "<Figure size 432x288 with 2 Axes>"
      ]
     },
     "metadata": {
      "needs_background": "light"
     },
     "output_type": "display_data"
    }
   ],
   "source": [
    "sns.heatmap(GDP.cov(), cmap = \"Purples\")\n"
   ]
  },
  {
   "cell_type": "markdown",
   "id": "5cd16e67",
   "metadata": {},
   "source": [
    "The heatmap determines that the highest worldwide covariance in GDP was during 2014 with the values stabilising from 2014 forward."
   ]
  },
  {
   "cell_type": "markdown",
   "id": "82e348c1",
   "metadata": {},
   "source": [
    "**Linear Regression**"
   ]
  },
  {
   "cell_type": "code",
   "execution_count": 72,
   "id": "4d96865a",
   "metadata": {},
   "outputs": [
    {
     "data": {
      "image/png": "[encoded data removed]",
      "text/plain": [
       "<Figure size 432x288 with 1 Axes>"
      ]
     },
     "metadata": {
      "needs_background": "light"
     },
     "output_type": "display_data"
    },
    {
     "data": {
      "image/png": "[encoded data removed]",
      "text/plain": [
       "<Figure size 432x288 with 1 Axes>"
      ]
     },
     "metadata": {
      "needs_background": "light"
     },
     "output_type": "display_data"
    },
    {
     "data": {
      "image/png": "[encoded data removed]",
      "text/plain": [
       "<Figure size 432x288 with 1 Axes>"
      ]
     },
     "metadata": {
      "needs_background": "light"
     },
     "output_type": "display_data"
    }
   ],
   "source": [
    "#Linear regression 2015\n",
    "comparison_15 = pd.merge(M2015, GDP_2015, how='inner', left_on='Country', right_on='Country')\n",
    "comparison_15.dropna(inplace=True)\n",
    "\n",
    "X = comparison_15['2015'].values.reshape(-1, 1)\n",
    "Y = comparison_15['CasesMedian'].values.reshape(-1, 1)\n",
    "\n",
    "linear_regressor = LinearRegression()\n",
    "linear_regressor.fit(X, Y)\n",
    "Y_pred = linear_regressor.predict(X)\n",
    "\n",
    "plt.ticklabel_format(style = 'plain')\n",
    "\n",
    "plt.scatter(X, Y)\n",
    "plt.plot(X, Y_pred, color ='red')\n",
    "plt.title('Malaria prevalence vs GDP per capita 2015')\n",
    "plt.xlabel('GDP per capita (USD)')\n",
    "plt.ylabel('Median no. of malaria cases')\n",
    "plt.show()\n",
    "\n",
    "#Linear regression 2016\n",
    "comparison_16 = pd.merge(M2016, GDP_2016, how='inner', left_on='Country', right_on='Country')\n",
    "comparison_16.dropna(inplace=True)\n",
    "\n",
    "X = comparison_16['2016'].values.reshape(-1, 1)\n",
    "Y = comparison_16['CasesMedian'].values.reshape(-1, 1)\n",
    "\n",
    "linear_regressor = LinearRegression()\n",
    "linear_regressor.fit(X, Y)\n",
    "Y_pred = linear_regressor.predict(X)\n",
    "\n",
    "plt.ticklabel_format(style = 'plain')\n",
    "\n",
    "plt.scatter(X, Y)\n",
    "plt.plot(X, Y_pred, color ='red')\n",
    "plt.title('Malaria prevalence vs GDP per capita 2016')\n",
    "plt.xlabel('GDP per capita (USD)')\n",
    "plt.ylabel('Median no. of malaria cases')\n",
    "plt.show()\n",
    "\n",
    "#Linear regression 2017\n",
    "comparison_17 = pd.merge(M2017, GDP_2017, how='inner', left_on='Country', right_on='Country')\n",
    "comparison_17.dropna(inplace=True)\n",
    "\n",
    "X = comparison_17['2017'].values.reshape(-1, 1)\n",
    "Y = comparison_17['CasesMedian'].values.reshape(-1, 1)\n",
    "\n",
    "linear_regressor = LinearRegression()\n",
    "linear_regressor.fit(X, Y)\n",
    "Y_pred = linear_regressor.predict(X)\n",
    "\n",
    "plt.ticklabel_format(style = 'plain')\n",
    "\n",
    "plt.scatter(X, Y)\n",
    "plt.plot(X, Y_pred, color ='red')\n",
    "plt.title('Malaria prevalence vs GDP per capita 2017')\n",
    "plt.xlabel('GDP per capita (USD)')\n",
    "plt.ylabel('Median no. of malaria cases')\n",
    "plt.show()"
   ]
  },
  {
   "cell_type": "markdown",
   "id": "361c3ead",
   "metadata": {},
   "source": [
    "This is a strong correlation between the spread of malaria in a country, and that country's GDP per capita. Although having a low GDP per capita does not necessarily mean that a country will have a high number of cases, it does mean there is a greater chance of malaria being present in the first place. Beyond 3000 GDP per capita, data points are much more sparse; there is a cluster around 1000 GDP per capita, demonstrating the impact that poverty has on a country's capacity to properly handle the spread of malaria.\n",
    "\n",
    "For the sake of tidiness, and because their logistic regression models are effectively the same, the models for years 2011 through 2015 were not shown."
   ]
  },
  {
   "cell_type": "markdown",
   "id": "1774cf16",
   "metadata": {},
   "source": [
    "Malaria vs life expectancy"
   ]
  },
  {
   "cell_type": "code",
   "execution_count": null,
   "id": "15e5717d",
   "metadata": {},
   "outputs": [],
   "source": [
    "#Linear regression life expectancy 2015\n"
   ]
  },
  {
   "cell_type": "markdown",
   "id": "8cbe339b",
   "metadata": {},
   "source": [
    "Malaria vs temperature"
   ]
  },
  {
   "cell_type": "code",
   "execution_count": 55,
   "id": "0a0ea24a",
   "metadata": {},
   "outputs": [
    {
     "data": {
      "image/png": "[encoded data removed]",
      "text/plain": [
       "<Figure size 432x288 with 1 Axes>"
      ]
     },
     "metadata": {
      "needs_background": "light"
     },
     "output_type": "display_data"
    },
    {
     "data": {
      "image/png": "[encoded data removed]",
      "text/plain": [
       "<Figure size 432x288 with 1 Axes>"
      ]
     },
     "metadata": {
      "needs_background": "light"
     },
     "output_type": "display_data"
    },
    {
     "data": {
      "image/png": "[encoded data removed]",
      "text/plain": [
       "<Figure size 432x288 with 1 Axes>"
      ]
     },
     "metadata": {
      "needs_background": "light"
     },
     "output_type": "display_data"
    }
   ],
   "source": [
    "#Linear regression temperature 2015\n",
    "\n",
    "temp_comparison_15 = pd.merge(M2015, avg_temp, how='inner', left_on='Country', right_on='Country')\n",
    "temp_comparison_15.dropna(inplace=True)\n",
    "\n",
    "X = temp_comparison_15['Average yearly temperature (° C)'].values.reshape(-1, 1)\n",
    "Y = temp_comparison_15['CasesMedian'].values.reshape(-1, 1)\n",
    "\n",
    "linear_regressor = LinearRegression()\n",
    "linear_regressor.fit(X, Y)\n",
    "Y_pred = linear_regressor.predict(X)\n",
    "\n",
    "plt.ticklabel_format(style = 'plain')\n",
    "\n",
    "plt.scatter(X, Y)\n",
    "plt.plot(X, Y_pred, color ='red')\n",
    "plt.title('Malaria prevalence vs temperature')\n",
    "plt.xlabel('Average yearly temperature (°C)')\n",
    "plt.ylabel('Median no. of malaria cases')\n",
    "plt.show()\n",
    "\n",
    "#Linear regression temperature 2016\n",
    "\n",
    "temp_comparison_16 = pd.merge(M2016, avg_temp, how='inner', left_on='Country', right_on='Country')\n",
    "temp_comparison_16.dropna(inplace=True)\n",
    "\n",
    "X = temp_comparison_16['Average yearly temperature (° C)'].values.reshape(-1, 1)\n",
    "Y = temp_comparison_16['CasesMedian'].values.reshape(-1, 1)\n",
    "\n",
    "linear_regressor = LinearRegression()\n",
    "linear_regressor.fit(X, Y)\n",
    "Y_pred = linear_regressor.predict(X)\n",
    "\n",
    "plt.ticklabel_format(style = 'plain')\n",
    "\n",
    "plt.scatter(X, Y)\n",
    "plt.plot(X, Y_pred, color ='red')\n",
    "plt.title('Malaria prevalence vs temperature')\n",
    "plt.xlabel('Average yearly temperature (°C)')\n",
    "plt.ylabel('Median no. of malaria cases')\n",
    "plt.show()\n",
    "\n",
    "#Linear regression temperature 2017\n",
    "temp_comparison_17 = pd.merge(M2017, avg_temp, how='inner', left_on='Country', right_on='Country')\n",
    "temp_comparison_17.dropna(inplace=True)\n",
    "\n",
    "X = temp_comparison_17['Average yearly temperature (° C)'].values.reshape(-1, 1)\n",
    "Y = temp_comparison_17['CasesMedian'].values.reshape(-1, 1)\n",
    "\n",
    "linear_regressor = LinearRegression()\n",
    "linear_regressor.fit(X, Y)\n",
    "Y_pred = linear_regressor.predict(X)\n",
    "\n",
    "plt.ticklabel_format(style = 'plain')\n",
    "\n",
    "plt.scatter(X, Y)\n",
    "plt.plot(X, Y_pred, color ='red')\n",
    "plt.title('Malaria prevalence vs temperature')\n",
    "plt.xlabel('Average yearly temperature (°C)')\n",
    "plt.ylabel('Median no. of malaria cases')\n",
    "plt.show()"
   ]
  },
  {
   "cell_type": "markdown",
   "id": "b208b88a",
   "metadata": {},
   "source": [
    "The above graphs show that countries with higher temperatures are breeding grounds for malaria. Whilst temperature could not necessarily be used to predict the number of cases, it is a strong indicator of whether malaria will be present in a region. From approximately 20°C upwards, there are a significant number of data points (around 20), particularly around 25°C. In stark contrast, below 17.5°C, there are only 3 data points in total.\n"
   ]
  },
  {
   "cell_type": "code",
   "execution_count": null,
   "id": "0acb2e45",
   "metadata": {},
   "outputs": [],
   "source": []
  }
 ],
 "metadata": {
  "kernelspec": {
   "display_name": "Python 3",
   "language": "python",
   "name": "python3"
  },
  "language_info": {
   "codemirror_mode": {
    "name": "ipython",
    "version": 3
   },
   "file_extension": ".py",
   "mimetype": "text/x-python",
   "name": "python",
   "nbconvert_exporter": "python",
   "pygments_lexer": "ipython3",
   "version": "3.8.8"
  }
 },
 "nbformat": 4,
 "nbformat_minor": 5
}
